{
  "nbformat": 4,
  "nbformat_minor": 0,
  "metadata": {
    "colab": {
      "name": "thongkemota.ipynb",
      "provenance": [],
      "collapsed_sections": [],
      "authorship_tag": "ABX9TyPfRIuG2RRXliMm13MT5t0u",
      "include_colab_link": true
    },
    "kernelspec": {
      "name": "python3",
      "display_name": "Python 3"
    },
    "language_info": {
      "name": "python"
    }
  },
  "cells": [
    {
      "cell_type": "markdown",
      "metadata": {
        "id": "view-in-github",
        "colab_type": "text"
      },
      "source": [
        "<a href=\"https://colab.research.google.com/github/phantheminhchau1/phantichdulieupython/blob/main/thongkemota.ipynb\" target=\"_parent\"><img src=\"https://colab.research.google.com/assets/colab-badge.svg\" alt=\"Open In Colab\"/></a>"
      ]
    },
    {
      "cell_type": "markdown",
      "metadata": {
        "id": "mPZPBE7DbbTd"
      },
      "source": [
        "<font size = 200><center>Thống kê mô tả</center></font>\n",
        "<hr  width=\"30%\" align=\"center\" />\n",
        "<p align='right'>Phan Thế Minh Châu</p>\n",
        "<p align='right'>20E1020067</p>\n",
        "<br>"
      ]
    },
    {
      "cell_type": "markdown",
      "metadata": {
        "id": "C1yDzWTTfgfG"
      },
      "source": [
        "**Khai báo thư viện:**"
      ]
    },
    {
      "cell_type": "code",
      "metadata": {
        "id": "LePC_s2QpTes"
      },
      "source": [
        "import numpy as np\n",
        "import pandas as pd\n",
        "import seaborn as sns\n",
        "import matplotlib.pyplot as plt\n",
        "import warnings\n",
        "warnings.simplefilter(action=\"ignore\", category=FutureWarning)"
      ],
      "execution_count": 1,
      "outputs": []
    },
    {
      "cell_type": "markdown",
      "metadata": {
        "id": "OODMrTp8foWY"
      },
      "source": [
        "**Đọc dữ liệu:**"
      ]
    },
    {
      "cell_type": "code",
      "metadata": {
        "colab": {
          "base_uri": "https://localhost:8080/",
          "height": 357
        },
        "id": "Mxh-8jZepc0X",
        "outputId": "53123ccf-b377-40ff-dd1f-9e9b0cca7730"
      },
      "source": [
        "df = pd.read_csv(\"https://raw.githubusercontent.com/PhanTheMinhChau/phantichdulieupython/main/data/Inc_Exp_Data.csv\")\n",
        "df.head(10)"
      ],
      "execution_count": 2,
      "outputs": [
        {
          "output_type": "execute_result",
          "data": {
            "text/html": [
              "<div>\n",
              "<style scoped>\n",
              "    .dataframe tbody tr th:only-of-type {\n",
              "        vertical-align: middle;\n",
              "    }\n",
              "\n",
              "    .dataframe tbody tr th {\n",
              "        vertical-align: top;\n",
              "    }\n",
              "\n",
              "    .dataframe thead th {\n",
              "        text-align: right;\n",
              "    }\n",
              "</style>\n",
              "<table border=\"1\" class=\"dataframe\">\n",
              "  <thead>\n",
              "    <tr style=\"text-align: right;\">\n",
              "      <th></th>\n",
              "      <th>Mthly_HH_Income</th>\n",
              "      <th>Mthly_HH_Expense</th>\n",
              "      <th>No_of_Fly_Members</th>\n",
              "      <th>Emi_or_Rent_Amt</th>\n",
              "      <th>Annual_HH_Income</th>\n",
              "      <th>Highest_Qualified_Member</th>\n",
              "      <th>No_of_Earning_Members</th>\n",
              "    </tr>\n",
              "  </thead>\n",
              "  <tbody>\n",
              "    <tr>\n",
              "      <th>0</th>\n",
              "      <td>5000</td>\n",
              "      <td>8000</td>\n",
              "      <td>3</td>\n",
              "      <td>2000</td>\n",
              "      <td>64200</td>\n",
              "      <td>Under-Graduate</td>\n",
              "      <td>1</td>\n",
              "    </tr>\n",
              "    <tr>\n",
              "      <th>1</th>\n",
              "      <td>6000</td>\n",
              "      <td>7000</td>\n",
              "      <td>2</td>\n",
              "      <td>3000</td>\n",
              "      <td>79920</td>\n",
              "      <td>Illiterate</td>\n",
              "      <td>1</td>\n",
              "    </tr>\n",
              "    <tr>\n",
              "      <th>2</th>\n",
              "      <td>10000</td>\n",
              "      <td>4500</td>\n",
              "      <td>2</td>\n",
              "      <td>0</td>\n",
              "      <td>112800</td>\n",
              "      <td>Under-Graduate</td>\n",
              "      <td>1</td>\n",
              "    </tr>\n",
              "    <tr>\n",
              "      <th>3</th>\n",
              "      <td>10000</td>\n",
              "      <td>2000</td>\n",
              "      <td>1</td>\n",
              "      <td>0</td>\n",
              "      <td>97200</td>\n",
              "      <td>Illiterate</td>\n",
              "      <td>1</td>\n",
              "    </tr>\n",
              "    <tr>\n",
              "      <th>4</th>\n",
              "      <td>12500</td>\n",
              "      <td>12000</td>\n",
              "      <td>2</td>\n",
              "      <td>3000</td>\n",
              "      <td>147000</td>\n",
              "      <td>Graduate</td>\n",
              "      <td>1</td>\n",
              "    </tr>\n",
              "    <tr>\n",
              "      <th>5</th>\n",
              "      <td>14000</td>\n",
              "      <td>8000</td>\n",
              "      <td>2</td>\n",
              "      <td>0</td>\n",
              "      <td>196560</td>\n",
              "      <td>Graduate</td>\n",
              "      <td>1</td>\n",
              "    </tr>\n",
              "    <tr>\n",
              "      <th>6</th>\n",
              "      <td>15000</td>\n",
              "      <td>16000</td>\n",
              "      <td>3</td>\n",
              "      <td>35000</td>\n",
              "      <td>167400</td>\n",
              "      <td>Post-Graduate</td>\n",
              "      <td>1</td>\n",
              "    </tr>\n",
              "    <tr>\n",
              "      <th>7</th>\n",
              "      <td>18000</td>\n",
              "      <td>20000</td>\n",
              "      <td>5</td>\n",
              "      <td>8000</td>\n",
              "      <td>216000</td>\n",
              "      <td>Graduate</td>\n",
              "      <td>1</td>\n",
              "    </tr>\n",
              "    <tr>\n",
              "      <th>8</th>\n",
              "      <td>19000</td>\n",
              "      <td>9000</td>\n",
              "      <td>2</td>\n",
              "      <td>0</td>\n",
              "      <td>218880</td>\n",
              "      <td>Under-Graduate</td>\n",
              "      <td>1</td>\n",
              "    </tr>\n",
              "    <tr>\n",
              "      <th>9</th>\n",
              "      <td>20000</td>\n",
              "      <td>9000</td>\n",
              "      <td>4</td>\n",
              "      <td>0</td>\n",
              "      <td>220800</td>\n",
              "      <td>Under-Graduate</td>\n",
              "      <td>2</td>\n",
              "    </tr>\n",
              "  </tbody>\n",
              "</table>\n",
              "</div>"
            ],
            "text/plain": [
              "   Mthly_HH_Income  ...  No_of_Earning_Members\n",
              "0             5000  ...                      1\n",
              "1             6000  ...                      1\n",
              "2            10000  ...                      1\n",
              "3            10000  ...                      1\n",
              "4            12500  ...                      1\n",
              "5            14000  ...                      1\n",
              "6            15000  ...                      1\n",
              "7            18000  ...                      1\n",
              "8            19000  ...                      1\n",
              "9            20000  ...                      2\n",
              "\n",
              "[10 rows x 7 columns]"
            ]
          },
          "metadata": {
            "tags": []
          },
          "execution_count": 2
        }
      ]
    },
    {
      "cell_type": "markdown",
      "metadata": {
        "id": "gTZZY9JD-XYI"
      },
      "source": [
        "#các số liệu thống kê cơ bản:"
      ]
    },
    {
      "cell_type": "code",
      "metadata": {
        "colab": {
          "base_uri": "https://localhost:8080/",
          "height": 295
        },
        "id": "52EY82GPpsgr",
        "outputId": "342c7968-58f0-4246-e577-51564f11efed"
      },
      "source": [
        "df.describe()"
      ],
      "execution_count": 3,
      "outputs": [
        {
          "output_type": "execute_result",
          "data": {
            "text/html": [
              "<div>\n",
              "<style scoped>\n",
              "    .dataframe tbody tr th:only-of-type {\n",
              "        vertical-align: middle;\n",
              "    }\n",
              "\n",
              "    .dataframe tbody tr th {\n",
              "        vertical-align: top;\n",
              "    }\n",
              "\n",
              "    .dataframe thead th {\n",
              "        text-align: right;\n",
              "    }\n",
              "</style>\n",
              "<table border=\"1\" class=\"dataframe\">\n",
              "  <thead>\n",
              "    <tr style=\"text-align: right;\">\n",
              "      <th></th>\n",
              "      <th>Mthly_HH_Income</th>\n",
              "      <th>Mthly_HH_Expense</th>\n",
              "      <th>No_of_Fly_Members</th>\n",
              "      <th>Emi_or_Rent_Amt</th>\n",
              "      <th>Annual_HH_Income</th>\n",
              "      <th>No_of_Earning_Members</th>\n",
              "    </tr>\n",
              "  </thead>\n",
              "  <tbody>\n",
              "    <tr>\n",
              "      <th>count</th>\n",
              "      <td>50.000000</td>\n",
              "      <td>50.000000</td>\n",
              "      <td>50.000000</td>\n",
              "      <td>50.000000</td>\n",
              "      <td>5.000000e+01</td>\n",
              "      <td>50.000000</td>\n",
              "    </tr>\n",
              "    <tr>\n",
              "      <th>mean</th>\n",
              "      <td>41558.000000</td>\n",
              "      <td>18818.000000</td>\n",
              "      <td>4.060000</td>\n",
              "      <td>3060.000000</td>\n",
              "      <td>4.900190e+05</td>\n",
              "      <td>1.460000</td>\n",
              "    </tr>\n",
              "    <tr>\n",
              "      <th>std</th>\n",
              "      <td>26097.908979</td>\n",
              "      <td>12090.216824</td>\n",
              "      <td>1.517382</td>\n",
              "      <td>6241.434948</td>\n",
              "      <td>3.201358e+05</td>\n",
              "      <td>0.734291</td>\n",
              "    </tr>\n",
              "    <tr>\n",
              "      <th>min</th>\n",
              "      <td>5000.000000</td>\n",
              "      <td>2000.000000</td>\n",
              "      <td>1.000000</td>\n",
              "      <td>0.000000</td>\n",
              "      <td>6.420000e+04</td>\n",
              "      <td>1.000000</td>\n",
              "    </tr>\n",
              "    <tr>\n",
              "      <th>25%</th>\n",
              "      <td>23550.000000</td>\n",
              "      <td>10000.000000</td>\n",
              "      <td>3.000000</td>\n",
              "      <td>0.000000</td>\n",
              "      <td>2.587500e+05</td>\n",
              "      <td>1.000000</td>\n",
              "    </tr>\n",
              "    <tr>\n",
              "      <th>50%</th>\n",
              "      <td>35000.000000</td>\n",
              "      <td>15500.000000</td>\n",
              "      <td>4.000000</td>\n",
              "      <td>0.000000</td>\n",
              "      <td>4.474200e+05</td>\n",
              "      <td>1.000000</td>\n",
              "    </tr>\n",
              "    <tr>\n",
              "      <th>75%</th>\n",
              "      <td>50375.000000</td>\n",
              "      <td>25000.000000</td>\n",
              "      <td>5.000000</td>\n",
              "      <td>3500.000000</td>\n",
              "      <td>5.947200e+05</td>\n",
              "      <td>2.000000</td>\n",
              "    </tr>\n",
              "    <tr>\n",
              "      <th>max</th>\n",
              "      <td>100000.000000</td>\n",
              "      <td>50000.000000</td>\n",
              "      <td>7.000000</td>\n",
              "      <td>35000.000000</td>\n",
              "      <td>1.404000e+06</td>\n",
              "      <td>4.000000</td>\n",
              "    </tr>\n",
              "  </tbody>\n",
              "</table>\n",
              "</div>"
            ],
            "text/plain": [
              "       Mthly_HH_Income  ...  No_of_Earning_Members\n",
              "count        50.000000  ...              50.000000\n",
              "mean      41558.000000  ...               1.460000\n",
              "std       26097.908979  ...               0.734291\n",
              "min        5000.000000  ...               1.000000\n",
              "25%       23550.000000  ...               1.000000\n",
              "50%       35000.000000  ...               1.000000\n",
              "75%       50375.000000  ...               2.000000\n",
              "max      100000.000000  ...               4.000000\n",
              "\n",
              "[8 rows x 6 columns]"
            ]
          },
          "metadata": {
            "tags": []
          },
          "execution_count": 3
        }
      ]
    },
    {
      "cell_type": "markdown",
      "metadata": {
        "id": "hQaef_fc_a7Q"
      },
      "source": [
        "### Các hàm tính số liệu:"
      ]
    },
    {
      "cell_type": "code",
      "metadata": {
        "id": "q_LOZvFApyq5"
      },
      "source": [
        "def mean(data):       #Tính giá trị trung bình \n",
        "  return data.mean()\n",
        "def mode(data):       #Tính số yếu vị\n",
        "  return data.mode()\n",
        "def median(data):     #Tính số trung vị\n",
        "  return data.median()\n",
        "def std(data):        #Tính độ lệch chuẩn\n",
        "  return data.std()\n",
        "def max(data):        #Tìm giá trị lớn nhất\n",
        "  return data.max()\n",
        "def min(data):        #Tìm giá trị nhỏ nhất\n",
        "  return data.min()\n",
        "def quantile(data):   #Tìm số phân vị\n",
        "  return data.quantile()"
      ],
      "execution_count": 4,
      "outputs": []
    },
    {
      "cell_type": "markdown",
      "metadata": {
        "id": "qTKLqyy6PNYC"
      },
      "source": [
        "**ví dụ:**"
      ]
    },
    {
      "cell_type": "code",
      "metadata": {
        "colab": {
          "base_uri": "https://localhost:8080/"
        },
        "id": "hzFpkbCuPJ19",
        "outputId": "d7081ad5-5bc2-45f0-93bd-1ad8130d821f"
      },
      "source": [
        "# Chi phí trung bình của một hộ gia đình là:\n",
        "print(\"Chi phí trung bình hằng tháng của một hộ gia đình là: $\"+ str(mean(df[\"Mthly_HH_Expense\"])))"
      ],
      "execution_count": 5,
      "outputs": [
        {
          "output_type": "stream",
          "text": [
            "Chi phí trung bình hằng tháng của một hộ gia đình là: $18818.0\n"
          ],
          "name": "stdout"
        }
      ]
    },
    {
      "cell_type": "code",
      "metadata": {
        "colab": {
          "base_uri": "https://localhost:8080/"
        },
        "id": "4ymWDa77P2Yp",
        "outputId": "bf748cac-51e0-4b55-e506-ef0bed0f925d"
      },
      "source": [
        "# Thu nhập của hộ gia đình có thu nhập hằng năm cao nhất là:\n",
        "print(\"Thu nhập của hộ gia đình có thu nhập cao nhất là: $\"+ str(max(df[\"Annual_HH_Income\"])))"
      ],
      "execution_count": 6,
      "outputs": [
        {
          "output_type": "stream",
          "text": [
            "Thu nhập của hộ gia đình có thu nhập cao nhất là: $1404000\n"
          ],
          "name": "stdout"
        }
      ]
    },
    {
      "cell_type": "code",
      "metadata": {
        "colab": {
          "base_uri": "https://localhost:8080/"
        },
        "id": "DRd4_pK0QjTJ",
        "outputId": "e9723ff3-7e01-4bc9-a1d5-718820e211a5"
      },
      "source": [
        "# Thu nhập của hộ gia đình có thu nhập hằng năm thấp nhất là:\n",
        "print(\"Thu nhập của hộ gia đình có thu nhập thấp nhất là: $\"+ str(min(df[\"Annual_HH_Income\"])))"
      ],
      "execution_count": 7,
      "outputs": [
        {
          "output_type": "stream",
          "text": [
            "Thu nhập của hộ gia đình có thu nhập thấp nhất là: $64200\n"
          ],
          "name": "stdout"
        }
      ]
    },
    {
      "cell_type": "code",
      "metadata": {
        "colab": {
          "base_uri": "https://localhost:8080/"
        },
        "id": "hYaJgUScbqKc",
        "outputId": "e465737a-97a4-4cf9-d727-9c81d20ad507"
      },
      "source": [
        "# số thành viên chiếm nhiều nhất:\n",
        "print(\"số thành viên chiếm nhiều nhất:\", mode(df[\"No_of_Fly_Members\"])[0], \"người\")"
      ],
      "execution_count": 8,
      "outputs": [
        {
          "output_type": "stream",
          "text": [
            "số thành viên chiếm nhiều nhất: 4 người\n"
          ],
          "name": "stdout"
        }
      ]
    },
    {
      "cell_type": "markdown",
      "metadata": {
        "id": "HssWP9b4_hMf"
      },
      "source": [
        "# vẽ biểu đồ:"
      ]
    },
    {
      "cell_type": "markdown",
      "metadata": {
        "id": "WzcrOqwxIrKf"
      },
      "source": [
        "**Bar plot:** sử dụng cho các dữ liệu định tính\n",
        "- Highest_Qualified_Member\n",
        "- No_of_Fly_Members\n",
        "- No_of_Earning_Members\n"
      ]
    },
    {
      "cell_type": "code",
      "metadata": {
        "id": "xWdA9PXEqz9y"
      },
      "source": [
        "def bar_plot(data, title = None):\n",
        "    x = df.groupby(data)[data].count()\n",
        "    dt = pd.DataFrame(x)\n",
        "    dt.columns = ['Percent']\n",
        "    percent = []\n",
        "    for i in dt['Percent']:\n",
        "        x = (i/len(df[data]))*100\n",
        "        percent.append(x)\n",
        "    dt['Percent'] = percent\n",
        "    mylabels = dt.index\n",
        "    plt.title(title)\n",
        "    sns.barplot(percent, mylabels, data = dt, orient = 'h')"
      ],
      "execution_count": 9,
      "outputs": []
    },
    {
      "cell_type": "markdown",
      "metadata": {
        "id": "_GUepa8cLohR"
      },
      "source": [
        "**histogram/box plot:** sử dụng cho các dữ liệu định lượng\n",
        "- Mthly_HH_Income\n",
        "- Mthly_HH_Expense\n",
        "- Annual_HH_Income"
      ]
    },
    {
      "cell_type": "code",
      "metadata": {
        "id": "FeYLUbOPJGCP"
      },
      "source": [
        "def histogram(data, title = None):\n",
        "  fig = plt.figure(figsize=(5,3))\n",
        "  ax = fig.add_axes([1, 1, 1.5, 1.5])\n",
        "  left, width = .25, .5\n",
        "  bottom, height = .25, .5\n",
        "  right = left + width\n",
        "  top = bottom + height\n",
        "  sns.histplot(data=df[data],color='#1c66de', cumulative= True,edgecolor='none',element=\"poly\", kde=True)\n",
        "  sns.despine()\n",
        "  plt.title(title)\n",
        "  sns.set_context(\"talk\")\n",
        "def box_plot(data, title = None):\n",
        "  fig, ax = plt.subplots(figsize=(6,6))\n",
        "  ax.set_facecolor('#FFC0CB')\n",
        "  plt.title(title)\n",
        "  sns.boxplot(data=df[[data]],color=\"#00FF00\",width=0.2, fliersize=20, flierprops = dict(marker='.',markerfacecolor='r'))"
      ],
      "execution_count": 10,
      "outputs": []
    },
    {
      "cell_type": "code",
      "metadata": {
        "colab": {
          "base_uri": "https://localhost:8080/",
          "height": 281
        },
        "id": "31uhEP5Er3Ab",
        "outputId": "0b1ed227-4942-46fe-dcfd-477f6c0eeadd"
      },
      "source": [
        "#biểu đồ thể hiện trình độ học vấn của thành viên có trình độ cao nhất trong gia đình\n",
        "bar_plot('Highest_Qualified_Member', title = \"Education Level of the Highest Qualified Member in the household\")"
      ],
      "execution_count": 11,
      "outputs": [
        {
          "output_type": "display_data",
          "data": {
            "image/png": "[encoded data removed]",
            "text/plain": [
              "<Figure size 432x288 with 1 Axes>"
            ]
          },
          "metadata": {
            "tags": [],
            "needs_background": "light"
          }
        }
      ]
    },
    {
      "cell_type": "code",
      "metadata": {
        "colab": {
          "base_uri": "https://localhost:8080/",
          "height": 281
        },
        "id": "QioxhR8mBm9H",
        "outputId": "4eb3d3ca-48f8-439c-928a-cb7f3f1dfdb6"
      },
      "source": [
        "#Biểu đồ thể hiện Số thành viên trong gia đình\n",
        "bar_plot(\"No_of_Fly_Members\", title= \"Number of Family Members\")"
      ],
      "execution_count": 12,
      "outputs": [
        {
          "output_type": "display_data",
          "data": {
            "image/png": "[encoded data removed]",
            "text/plain": [
              "<Figure size 432x288 with 1 Axes>"
            ]
          },
          "metadata": {
            "tags": [],
            "needs_background": "light"
          }
        }
      ]
    },
    {
      "cell_type": "code",
      "metadata": {
        "colab": {
          "base_uri": "https://localhost:8080/",
          "height": 281
        },
        "id": "DI_DFns7HQqA",
        "outputId": "90c822e8-7c4b-4760-e775-f36ade48b829"
      },
      "source": [
        "#Biểu đồ thể hiện số thành viên có thu nhập\n",
        "bar_plot(\"No_of_Earning_Members\", title=\"Number of Earning Members\")"
      ],
      "execution_count": 13,
      "outputs": [
        {
          "output_type": "display_data",
          "data": {
            "image/png": "[encoded data removed]",
            "text/plain": [
              "<Figure size 432x288 with 1 Axes>"
            ]
          },
          "metadata": {
            "tags": [],
            "needs_background": "light"
          }
        }
      ]
    },
    {
      "cell_type": "code",
      "metadata": {
        "colab": {
          "base_uri": "https://localhost:8080/",
          "height": 403
        },
        "id": "Y2hGU2dQTycC",
        "outputId": "48860520-4194-4a18-daea-29eec5de73b5"
      },
      "source": [
        "# Biểu đồ thể hiện sự phân bố thu nhập hàng tháng của các hộ gia đình\n",
        "histogram(\"Mthly_HH_Income\", title=\"Monthly Household Income\")"
      ],
      "execution_count": 14,
      "outputs": [
        {
          "output_type": "display_data",
          "data": {
            "image/png": "[encoded data removed]",
            "text/plain": [
              "<Figure size 360x216 with 1 Axes>"
            ]
          },
          "metadata": {
            "tags": [],
            "needs_background": "light"
          }
        }
      ]
    },
    {
      "cell_type": "code",
      "metadata": {
        "colab": {
          "base_uri": "https://localhost:8080/",
          "height": 408
        },
        "id": "NX4gYMCiVyqG",
        "outputId": "cbf27f8a-7f29-4b05-ac61-b1a85f6bc5c7"
      },
      "source": [
        "box_plot(\"Mthly_HH_Income\", title=\"Monthly Household Income\")"
      ],
      "execution_count": 15,
      "outputs": [
        {
          "output_type": "display_data",
          "data": {
            "image/png": "[encoded data removed]",
            "text/plain": [
              "<Figure size 432x432 with 1 Axes>"
            ]
          },
          "metadata": {
            "tags": [],
            "needs_background": "light"
          }
        }
      ]
    },
    {
      "cell_type": "code",
      "metadata": {
        "colab": {
          "base_uri": "https://localhost:8080/",
          "height": 428
        },
        "id": "lYA6r1wjYbzN",
        "outputId": "a50d173f-82ec-400e-8d8b-64ef11ccffbe"
      },
      "source": [
        "# Biểu đồ thể hiện sự phân bố chi phí hàng tháng của các hộ gia đình\n",
        "histogram(\"Mthly_HH_Expense\", title=\"Mthly_HH_Expense\")"
      ],
      "execution_count": 16,
      "outputs": [
        {
          "output_type": "display_data",
          "data": {
            "image/png": "[encoded data removed]",
            "text/plain": [
              "<Figure size 360x216 with 1 Axes>"
            ]
          },
          "metadata": {
            "tags": [],
            "needs_background": "light"
          }
        }
      ]
    },
    {
      "cell_type": "code",
      "metadata": {
        "colab": {
          "base_uri": "https://localhost:8080/",
          "height": 408
        },
        "id": "WhfaQOHeY-fk",
        "outputId": "8a783559-6fe4-4c6b-ceb0-ee351b842a88"
      },
      "source": [
        "box_plot(\"Mthly_HH_Expense\", title=\"Mthly_HH_Expense\")"
      ],
      "execution_count": 17,
      "outputs": [
        {
          "output_type": "display_data",
          "data": {
            "image/png": "[encoded data removed]",
            "text/plain": [
              "<Figure size 432x432 with 1 Axes>"
            ]
          },
          "metadata": {
            "tags": [],
            "needs_background": "light"
          }
        }
      ]
    },
    {
      "cell_type": "code",
      "metadata": {
        "colab": {
          "base_uri": "https://localhost:8080/",
          "height": 428
        },
        "id": "VIyxhAtNZ6nr",
        "outputId": "e0ab72e9-38f4-4905-ef6d-9da072ffc4cf"
      },
      "source": [
        "# Biểu đồ thể hiện sự phân bố thu nhập hàng năm của các hộ gia đình\n",
        "histogram(\"Annual_HH_Income\", title=\"Monthly Household Income\")"
      ],
      "execution_count": 18,
      "outputs": [
        {
          "output_type": "display_data",
          "data": {
            "image/png": "[encoded data removed]",
            "text/plain": [
              "<Figure size 360x216 with 1 Axes>"
            ]
          },
          "metadata": {
            "tags": [],
            "needs_background": "light"
          }
        }
      ]
    },
    {
      "cell_type": "code",
      "metadata": {
        "colab": {
          "base_uri": "https://localhost:8080/",
          "height": 408
        },
        "id": "Km-1CUfAaEr_",
        "outputId": "fa2eebab-2f0e-431a-fd9d-daa763678890"
      },
      "source": [
        "box_plot(\"Annual_HH_Income\", title=\"Monthly Household Income\")"
      ],
      "execution_count": 19,
      "outputs": [
        {
          "output_type": "display_data",
          "data": {
            "image/png": "[encoded data removed]",
            "text/plain": [
              "<Figure size 432x432 with 1 Axes>"
            ]
          },
          "metadata": {
            "tags": [],
            "needs_background": "light"
          }
        }
      ]
    },
    {
      "cell_type": "markdown",
      "metadata": {
        "id": "KEYuhDSvbCra"
      },
      "source": [
        "<br>\n",
        "<br>\n",
        "<br>\n",
        "<br>\n",
        "<hr>"
      ]
    }
  ]
}