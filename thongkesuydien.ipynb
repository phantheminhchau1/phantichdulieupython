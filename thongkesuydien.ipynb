{
  "nbformat": 4,
  "nbformat_minor": 0,
  "metadata": {
    "colab": {
      "name": "thongkesuydien.ipynb",
      "provenance": [],
      "collapsed_sections": [],
      "authorship_tag": "ABX9TyN4GfcmlWvntC8gm40cofPb",
      "include_colab_link": true
    },
    "kernelspec": {
      "name": "python3",
      "display_name": "Python 3"
    },
    "language_info": {
      "name": "python"
    }
  },
  "cells": [
    {
      "cell_type": "markdown",
      "metadata": {
        "id": "view-in-github",
        "colab_type": "text"
      },
      "source": [
        "<a href=\"https://colab.research.google.com/github/phantheminhchau1/phantichdulieupython/blob/main/thongkesuydien.ipynb\" target=\"_parent\"><img src=\"https://colab.research.google.com/assets/colab-badge.svg\" alt=\"Open In Colab\"/></a>"
      ]
    },
    {
      "cell_type": "markdown",
      "metadata": {
        "id": "_XllGVaiSxMg"
      },
      "source": [
        "<font size = 200><center>Thống kê suy diễn</center></font>\n",
        "<hr  width=\"30%\" align=\"center\" />\n",
        "<p align='right'>Phan Thế Minh Châu</p>\n",
        "<p align='right'>20E1020067</p>\n",
        "<br>"
      ]
    },
    {
      "cell_type": "markdown",
      "metadata": {
        "id": "BPnSdjPLZkA9"
      },
      "source": [
        "**khai báo thư viện:**"
      ]
    },
    {
      "cell_type": "code",
      "metadata": {
        "id": "GWO9MoLo-Gtl",
        "colab": {
          "base_uri": "https://localhost:8080/"
        },
        "outputId": "b672431c-8b3a-4851-a99c-7c8e0a2c467e"
      },
      "source": [
        "import numpy as np\n",
        "import pandas as pd\n",
        "from scipy import stats\n",
        "import statsmodels.api as sm\n",
        "import matplotlib.pyplot as plt\n",
        "import seaborn as sns\n",
        "import warnings\n",
        "warnings.simplefilter(action=\"ignore\", category=FutureWarning)"
      ],
      "execution_count": 1,
      "outputs": [
        {
          "output_type": "stream",
          "text": [
            "/usr/local/lib/python3.7/dist-packages/statsmodels/tools/_testing.py:19: FutureWarning: pandas.util.testing is deprecated. Use the functions in the public API at pandas.testing instead.\n",
            "  import pandas.util.testing as tm\n"
          ],
          "name": "stderr"
        }
      ]
    },
    {
      "cell_type": "markdown",
      "metadata": {
        "id": "gHgynwDO3O3Y"
      },
      "source": [
        "<hr>"
      ]
    },
    {
      "cell_type": "markdown",
      "metadata": {
        "id": "7ZWfuVPVfxlH"
      },
      "source": [
        "**đọc dữ liệu:**"
      ]
    },
    {
      "cell_type": "code",
      "metadata": {
        "colab": {
          "base_uri": "https://localhost:8080/",
          "height": 357
        },
        "id": "wvOc4ADacd18",
        "outputId": "c3bb0b0e-b335-47e5-d0b9-98af8b2f394d"
      },
      "source": [
        "df = pd.read_csv(\"https://raw.githubusercontent.com/PhanTheMinhChau/phantichdulieupython/main/data/Diet_R.csv\")\n",
        "df.sample(10)"
      ],
      "execution_count": 2,
      "outputs": [
        {
          "output_type": "execute_result",
          "data": {
            "text/html": [
              "<div>\n",
              "<style scoped>\n",
              "    .dataframe tbody tr th:only-of-type {\n",
              "        vertical-align: middle;\n",
              "    }\n",
              "\n",
              "    .dataframe tbody tr th {\n",
              "        vertical-align: top;\n",
              "    }\n",
              "\n",
              "    .dataframe thead th {\n",
              "        text-align: right;\n",
              "    }\n",
              "</style>\n",
              "<table border=\"1\" class=\"dataframe\">\n",
              "  <thead>\n",
              "    <tr style=\"text-align: right;\">\n",
              "      <th></th>\n",
              "      <th>Person</th>\n",
              "      <th>gender</th>\n",
              "      <th>Age</th>\n",
              "      <th>Height</th>\n",
              "      <th>pre.weight</th>\n",
              "      <th>Diet</th>\n",
              "      <th>weight6weeks</th>\n",
              "    </tr>\n",
              "  </thead>\n",
              "  <tbody>\n",
              "    <tr>\n",
              "      <th>51</th>\n",
              "      <td>21</td>\n",
              "      <td>1</td>\n",
              "      <td>52</td>\n",
              "      <td>177</td>\n",
              "      <td>83</td>\n",
              "      <td>1</td>\n",
              "      <td>79.1</td>\n",
              "    </tr>\n",
              "    <tr>\n",
              "      <th>36</th>\n",
              "      <td>58</td>\n",
              "      <td>0</td>\n",
              "      <td>35</td>\n",
              "      <td>163</td>\n",
              "      <td>67</td>\n",
              "      <td>3</td>\n",
              "      <td>60.2</td>\n",
              "    </tr>\n",
              "    <tr>\n",
              "      <th>60</th>\n",
              "      <td>46</td>\n",
              "      <td>1</td>\n",
              "      <td>37</td>\n",
              "      <td>194</td>\n",
              "      <td>78</td>\n",
              "      <td>2</td>\n",
              "      <td>76.3</td>\n",
              "    </tr>\n",
              "    <tr>\n",
              "      <th>75</th>\n",
              "      <td>76</td>\n",
              "      <td>1</td>\n",
              "      <td>28</td>\n",
              "      <td>164</td>\n",
              "      <td>85</td>\n",
              "      <td>3</td>\n",
              "      <td>79.7</td>\n",
              "    </tr>\n",
              "    <tr>\n",
              "      <th>33</th>\n",
              "      <td>55</td>\n",
              "      <td>0</td>\n",
              "      <td>22</td>\n",
              "      <td>169</td>\n",
              "      <td>65</td>\n",
              "      <td>3</td>\n",
              "      <td>58.2</td>\n",
              "    </tr>\n",
              "    <tr>\n",
              "      <th>12</th>\n",
              "      <td>11</td>\n",
              "      <td>0</td>\n",
              "      <td>60</td>\n",
              "      <td>173</td>\n",
              "      <td>72</td>\n",
              "      <td>1</td>\n",
              "      <td>70.5</td>\n",
              "    </tr>\n",
              "    <tr>\n",
              "      <th>6</th>\n",
              "      <td>5</td>\n",
              "      <td>0</td>\n",
              "      <td>50</td>\n",
              "      <td>170</td>\n",
              "      <td>65</td>\n",
              "      <td>1</td>\n",
              "      <td>62.2</td>\n",
              "    </tr>\n",
              "    <tr>\n",
              "      <th>53</th>\n",
              "      <td>23</td>\n",
              "      <td>1</td>\n",
              "      <td>39</td>\n",
              "      <td>166</td>\n",
              "      <td>87</td>\n",
              "      <td>1</td>\n",
              "      <td>81.9</td>\n",
              "    </tr>\n",
              "    <tr>\n",
              "      <th>56</th>\n",
              "      <td>42</td>\n",
              "      <td>1</td>\n",
              "      <td>38</td>\n",
              "      <td>199</td>\n",
              "      <td>75</td>\n",
              "      <td>2</td>\n",
              "      <td>72.6</td>\n",
              "    </tr>\n",
              "    <tr>\n",
              "      <th>68</th>\n",
              "      <td>69</td>\n",
              "      <td>1</td>\n",
              "      <td>29</td>\n",
              "      <td>166</td>\n",
              "      <td>76</td>\n",
              "      <td>3</td>\n",
              "      <td>72.5</td>\n",
              "    </tr>\n",
              "  </tbody>\n",
              "</table>\n",
              "</div>"
            ],
            "text/plain": [
              "    Person gender  Age  Height  pre.weight  Diet  weight6weeks\n",
              "51      21      1   52     177          83     1          79.1\n",
              "36      58      0   35     163          67     3          60.2\n",
              "60      46      1   37     194          78     2          76.3\n",
              "75      76      1   28     164          85     3          79.7\n",
              "33      55      0   22     169          65     3          58.2\n",
              "12      11      0   60     173          72     1          70.5\n",
              "6        5      0   50     170          65     1          62.2\n",
              "53      23      1   39     166          87     1          81.9\n",
              "56      42      1   38     199          75     2          72.6\n",
              "68      69      1   29     166          76     3          72.5"
            ]
          },
          "metadata": {
            "tags": []
          },
          "execution_count": 2
        }
      ]
    },
    {
      "cell_type": "markdown",
      "metadata": {
        "id": "TszBOiKQe5uE"
      },
      "source": [
        "**làm sạch dữ liệu:**"
      ]
    },
    {
      "cell_type": "code",
      "metadata": {
        "colab": {
          "base_uri": "https://localhost:8080/",
          "height": 357
        },
        "id": "0jRDAJFBe13u",
        "outputId": "afc85a81-46d1-4f0e-ab9e-e55e1f59c1ad"
      },
      "source": [
        "df.replace(\" \", np.nan, inplace=True) #chuyển đổi các ô trống sang NaN\n",
        "df.dropna(inplace=True) #Xóa các hàng có giá trị NaN\n",
        "df.sample(10)"
      ],
      "execution_count": 3,
      "outputs": [
        {
          "output_type": "execute_result",
          "data": {
            "text/html": [
              "<div>\n",
              "<style scoped>\n",
              "    .dataframe tbody tr th:only-of-type {\n",
              "        vertical-align: middle;\n",
              "    }\n",
              "\n",
              "    .dataframe tbody tr th {\n",
              "        vertical-align: top;\n",
              "    }\n",
              "\n",
              "    .dataframe thead th {\n",
              "        text-align: right;\n",
              "    }\n",
              "</style>\n",
              "<table border=\"1\" class=\"dataframe\">\n",
              "  <thead>\n",
              "    <tr style=\"text-align: right;\">\n",
              "      <th></th>\n",
              "      <th>Person</th>\n",
              "      <th>gender</th>\n",
              "      <th>Age</th>\n",
              "      <th>Height</th>\n",
              "      <th>pre.weight</th>\n",
              "      <th>Diet</th>\n",
              "      <th>weight6weeks</th>\n",
              "    </tr>\n",
              "  </thead>\n",
              "  <tbody>\n",
              "    <tr>\n",
              "      <th>62</th>\n",
              "      <td>48</td>\n",
              "      <td>1</td>\n",
              "      <td>40</td>\n",
              "      <td>171</td>\n",
              "      <td>79</td>\n",
              "      <td>2</td>\n",
              "      <td>72.9</td>\n",
              "    </tr>\n",
              "    <tr>\n",
              "      <th>71</th>\n",
              "      <td>72</td>\n",
              "      <td>1</td>\n",
              "      <td>26</td>\n",
              "      <td>179</td>\n",
              "      <td>78</td>\n",
              "      <td>3</td>\n",
              "      <td>69.4</td>\n",
              "    </tr>\n",
              "    <tr>\n",
              "      <th>73</th>\n",
              "      <td>74</td>\n",
              "      <td>1</td>\n",
              "      <td>35</td>\n",
              "      <td>183</td>\n",
              "      <td>83</td>\n",
              "      <td>3</td>\n",
              "      <td>80.2</td>\n",
              "    </tr>\n",
              "    <tr>\n",
              "      <th>12</th>\n",
              "      <td>11</td>\n",
              "      <td>0</td>\n",
              "      <td>60</td>\n",
              "      <td>173</td>\n",
              "      <td>72</td>\n",
              "      <td>1</td>\n",
              "      <td>70.5</td>\n",
              "    </tr>\n",
              "    <tr>\n",
              "      <th>29</th>\n",
              "      <td>40</td>\n",
              "      <td>0</td>\n",
              "      <td>29</td>\n",
              "      <td>169</td>\n",
              "      <td>77</td>\n",
              "      <td>2</td>\n",
              "      <td>77.5</td>\n",
              "    </tr>\n",
              "    <tr>\n",
              "      <th>9</th>\n",
              "      <td>8</td>\n",
              "      <td>0</td>\n",
              "      <td>28</td>\n",
              "      <td>176</td>\n",
              "      <td>69</td>\n",
              "      <td>1</td>\n",
              "      <td>60.5</td>\n",
              "    </tr>\n",
              "    <tr>\n",
              "      <th>56</th>\n",
              "      <td>42</td>\n",
              "      <td>1</td>\n",
              "      <td>38</td>\n",
              "      <td>199</td>\n",
              "      <td>75</td>\n",
              "      <td>2</td>\n",
              "      <td>72.6</td>\n",
              "    </tr>\n",
              "    <tr>\n",
              "      <th>4</th>\n",
              "      <td>3</td>\n",
              "      <td>0</td>\n",
              "      <td>55</td>\n",
              "      <td>170</td>\n",
              "      <td>64</td>\n",
              "      <td>1</td>\n",
              "      <td>63.3</td>\n",
              "    </tr>\n",
              "    <tr>\n",
              "      <th>20</th>\n",
              "      <td>31</td>\n",
              "      <td>0</td>\n",
              "      <td>20</td>\n",
              "      <td>169</td>\n",
              "      <td>62</td>\n",
              "      <td>2</td>\n",
              "      <td>55.0</td>\n",
              "    </tr>\n",
              "    <tr>\n",
              "      <th>43</th>\n",
              "      <td>65</td>\n",
              "      <td>0</td>\n",
              "      <td>48</td>\n",
              "      <td>153</td>\n",
              "      <td>75</td>\n",
              "      <td>3</td>\n",
              "      <td>68.7</td>\n",
              "    </tr>\n",
              "  </tbody>\n",
              "</table>\n",
              "</div>"
            ],
            "text/plain": [
              "    Person gender  Age  Height  pre.weight  Diet  weight6weeks\n",
              "62      48      1   40     171          79     2          72.9\n",
              "71      72      1   26     179          78     3          69.4\n",
              "73      74      1   35     183          83     3          80.2\n",
              "12      11      0   60     173          72     1          70.5\n",
              "29      40      0   29     169          77     2          77.5\n",
              "9        8      0   28     176          69     1          60.5\n",
              "56      42      1   38     199          75     2          72.6\n",
              "4        3      0   55     170          64     1          63.3\n",
              "20      31      0   20     169          62     2          55.0\n",
              "43      65      0   48     153          75     3          68.7"
            ]
          },
          "metadata": {
            "tags": []
          },
          "execution_count": 3
        }
      ]
    },
    {
      "cell_type": "markdown",
      "metadata": {
        "id": "PBnNtd0I3MlE"
      },
      "source": [
        "<hr>"
      ]
    },
    {
      "cell_type": "markdown",
      "metadata": {
        "id": "IxciemcIlrGS"
      },
      "source": [
        "##**Các hàm phân tích ANOVA**"
      ]
    },
    {
      "cell_type": "markdown",
      "metadata": {
        "id": "AsTKdKcPl0jm"
      },
      "source": [
        "###Kiểm tra phân phối chuẩn:\n",
        "**Phát biểu giả thiết:**\n",
        "- H0: mẫu tuân theo phân phối chuẩn\n",
        "- H1: Mẫu không tuân theo phân phối chuẩn"
      ]
    },
    {
      "cell_type": "code",
      "metadata": {
        "id": "ss1N6KaxlgcL"
      },
      "source": [
        "def shapiro(data): # kiểm tra phân phối chẩn hay không\n",
        "    series = []\n",
        "    for i in data.columns:\n",
        "        series.append(data[i].dropna())\n",
        "    for j in series:\n",
        "        sts, p = stats.shapiro(j)\n",
        "        if p > 0.05:\n",
        "            print(f'không có bằng chứng để bác bỏ giả thiết H0: mẫu {j.name} tuân theo phân phối chuẩn')\n",
        "        else:\n",
        "            print(f'có bằng chứng để bác bỏ giả thiết H0, điều này ngụ ý chấp nhận giả thiết H1: mẫu {j.name} không tuân theo phân phối chuẩn')\n",
        "    print()"
      ],
      "execution_count": 4,
      "outputs": []
    },
    {
      "cell_type": "markdown",
      "metadata": {
        "id": "vwAATGjdnfxH"
      },
      "source": [
        "**đánh giá qua biểu đồ:**"
      ]
    },
    {
      "cell_type": "code",
      "metadata": {
        "id": "9j-y-gu4nmT9"
      },
      "source": [
        "def hist(data):\n",
        "  series = []\n",
        "  id = 0\n",
        "  for i in data.columns:\n",
        "        series.append(data[i].dropna())\n",
        "  fig, ax = plt.subplots(ncols=len(data.columns), figsize=(20,4))\n",
        "  for j in series:\n",
        "        mean = np.mean(data[j.name])\n",
        "        # ddof=1 :: hiệu chỉnh\n",
        "        std = np.std(data[j.name], ddof=1)\n",
        "        domain = np.linspace(np.min(data[j.name]), np.max(data[j.name]))\n",
        "        ax[id].plot(domain, stats.norm.pdf(domain, mean, std))\n",
        "        #density=True :: chuẩn hóa dữ liệu về normal\n",
        "        ax[id].hist(data[j.name], edgecolor='green', density=True)\n",
        "        ax[id].title.set_text(j.name)\n",
        "        id = id + 1\n",
        "  fig.show()\n",
        "def qq_plot(data):\n",
        "  series = []\n",
        "  id = 0\n",
        "  for i in data.columns:\n",
        "        series.append(data[i].dropna())\n",
        "  fig, ax = plt.subplots(ncols=len(data.columns), figsize=(20,4))\n",
        "  for j in series:\n",
        "    sm.qqplot(data[j.name], fit=True, line ='45', ax= ax[id])\n",
        "    ax[id].title.set_text(j.name)\n",
        "    id = id + 1\n",
        "  fig.show()"
      ],
      "execution_count": 5,
      "outputs": []
    },
    {
      "cell_type": "markdown",
      "metadata": {
        "id": "mLqaUPGD3KQj"
      },
      "source": [
        "<hr>"
      ]
    },
    {
      "cell_type": "markdown",
      "metadata": {
        "id": "_gIuFgQ9mgMD"
      },
      "source": [
        "###kiểm tra tính đồng nhất phương sai:\n",
        "**Phát biểu giả thiết:**\n",
        "- H0: Phương sai đồng nhất\n",
        "- H1: phương sai không đồng nhất"
      ]
    },
    {
      "cell_type": "code",
      "metadata": {
        "id": "zrNvfbDpmj5c"
      },
      "source": [
        "def levene(data): # khiểm tra tính đồng nhất phương sai\n",
        "    series = []\n",
        "    for i in data.columns:\n",
        "        series.append(data[i].dropna())\n",
        "    sts, p = stats.levene(*series)\n",
        "    if p > 0.05:\n",
        "        print(f'không có bằng chứng để bác bỏ giả thiết H0: Phương sai đồng nhất\\n')\n",
        "    else:\n",
        "        print(f'có bằng chứng để bác bỏ giả thiết H0, điều này ngụ ý chấp nhận giả thiết H1: phương sai không đồng nhất\\n')"
      ],
      "execution_count": 6,
      "outputs": []
    },
    {
      "cell_type": "markdown",
      "metadata": {
        "id": "EbHby4XN3Hvx"
      },
      "source": [
        "<hr>"
      ]
    },
    {
      "cell_type": "markdown",
      "metadata": {
        "id": "NVJJ2mAKmkVU"
      },
      "source": [
        "###Kiểm tra tính đồng nhất về giá trị trung bình:\n",
        "**Phát biểu giả thiết:**\n",
        "- H0: các giá trị trung bình bằng nhau\n",
        "- H1: Có tối thiểu một cặp giá trị trung bình có giá trị khác nhau"
      ]
    },
    {
      "cell_type": "code",
      "metadata": {
        "id": "8vBPsa_smlMZ"
      },
      "source": [
        "def anova(data):\n",
        "    series = []\n",
        "    for i in data.columns:\n",
        "        series.append(data[i].dropna())\n",
        "    sts, p = stats.f_oneway(*series)\n",
        "    if p > 0.05:\n",
        "        print('không có bằng chứng để bác bỏ giả thiết H0: các giá trị trung bình bằng nhau')\n",
        "    else:\n",
        "        print('có bằng chứng để bác bỏ giả thiết H0, điều này ngụ ý chấp nhận giả thiết H1: Có tối thiểu một cặp giá trị trung bình có giá trị khác nhau')"
      ],
      "execution_count": 7,
      "outputs": []
    },
    {
      "cell_type": "code",
      "metadata": {
        "id": "dY7Clrh5OgDH"
      },
      "source": [
        "def results(p, vals=['mean1', 'mean2'], alpha=0.05):\n",
        "    cols=['score', 'p_value', 'KetLuan']\n",
        "    if p['p_value'] < alpha:\n",
        "        p['KetLuan'] = f\"Chấp nhận H1 với mức ý nghĩa {alpha}\"\n",
        "    if p['p_value'] >= alpha:\n",
        "        p['KetLuan'] = f\"Chấp nhận H0 với mức ý nghĩa {alpha}\"\n",
        "    df = pd.DataFrame(p, index=[''])\n",
        "    if vals: cols = vals + cols\n",
        "    return df[cols]"
      ],
      "execution_count": 8,
      "outputs": []
    },
    {
      "cell_type": "markdown",
      "metadata": {
        "id": "NvkdS25T3Efh"
      },
      "source": [
        "<hr>"
      ]
    },
    {
      "cell_type": "markdown",
      "metadata": {
        "id": "g6ALfGV8nUl1"
      },
      "source": [
        "##Tiến hành phân tích:"
      ]
    },
    {
      "cell_type": "markdown",
      "metadata": {
        "id": "WOPdMuUO_Ehc"
      },
      "source": [
        "###**Ignore diet and test to see if weight has been lost** (Bỏ qua chế độ ăn kiêng và kiểm tra xem đã giảm cân chưa?)"
      ]
    },
    {
      "cell_type": "markdown",
      "metadata": {
        "id": "KjuoFFdI_n02"
      },
      "source": [
        "**phát biểu giả thiết:**\n",
        "- h0: Cân nặng trước khi kiểm tra và sau khi kiểm tra bằng nhau\n",
        "- h1: Cân nặng trước khi kiểm tra và sau khi kiểm tra khác nhau"
      ]
    },
    {
      "cell_type": "code",
      "metadata": {
        "colab": {
          "base_uri": "https://localhost:8080/"
        },
        "id": "en7-EWgC_meF",
        "outputId": "0de719d9-9d4b-44c3-bf6f-24b38e28549f"
      },
      "source": [
        "stat, p = stats.ttest_rel(df[\"pre.weight\"], df[\"weight6weeks\"])\n",
        "print('Stat =', stat, 'P_value =', p)\n",
        "if p > 0.05:\n",
        "    print(\"không có bằng chứng để bác bỏ giả thiết H0: Cân nặng trước khi kiểm tra và sau khi kiểm tra bằng nhau\")\n",
        "else:\n",
        "    print(\"có bằng chứng để bác bỏ giả thiết H0, điều này ngụ ý chấp nhận giả thiết H1: Cân nặng trước khi kiểm tra và sau khi kiểm tra khác nhau\")"
      ],
      "execution_count": 9,
      "outputs": [
        {
          "output_type": "stream",
          "text": [
            "Stat = 13.728486740903172 P_value = 3.7220652146643845e-22\n",
            "có bằng chứng để bác bỏ giả thiết H0, điều này ngụ ý chấp nhận giả thiết H1: Cân nặng trước khi kiểm tra và sau khi kiểm tra khác nhau\n"
          ],
          "name": "stdout"
        }
      ]
    },
    {
      "cell_type": "code",
      "metadata": {
        "colab": {
          "base_uri": "https://localhost:8080/",
          "height": 303
        },
        "id": "LpdBUrYrw2sH",
        "outputId": "7b784bd5-dc85-45b8-a916-467187b8ef3f"
      },
      "source": [
        "# Biểu đồ cân nặng trước và sau khi giảm cân\n",
        "df[['pre.weight', 'weight6weeks']].plot(color= ['#00ab41','#ff3737'])\n",
        "plt.title('Weight before and after diet', fontsize=20)"
      ],
      "execution_count": 10,
      "outputs": [
        {
          "output_type": "execute_result",
          "data": {
            "text/plain": [
              "Text(0.5, 1.0, 'Weight before and after diet')"
            ]
          },
          "metadata": {
            "tags": []
          },
          "execution_count": 10
        },
        {
          "output_type": "display_data",
          "data": {
            "image/png": "[encoded data removed]",
            "text/plain": [
              "<Figure size 432x288 with 1 Axes>"
            ]
          },
          "metadata": {
            "tags": [],
            "needs_background": "light"
          }
        }
      ]
    },
    {
      "cell_type": "markdown",
      "metadata": {
        "id": "BdQQrFly3Cj9"
      },
      "source": [
        "<hr>"
      ]
    },
    {
      "cell_type": "markdown",
      "metadata": {
        "id": "LW9-vI0ACYZy"
      },
      "source": [
        "###**Remove weight lost and get students to calculate it using before/after weights**"
      ]
    },
    {
      "cell_type": "code",
      "metadata": {
        "colab": {
          "base_uri": "https://localhost:8080/",
          "height": 357
        },
        "id": "Y7gny0gNCfwB",
        "outputId": "82746148-6c4f-4a5e-a5f5-9cd63822a0f8"
      },
      "source": [
        "weight_lost = df[\"pre.weight\"] - df[\"weight6weeks\"] \n",
        "df['weightlost'] = weight_lost.values\n",
        "df.sample(10)"
      ],
      "execution_count": 11,
      "outputs": [
        {
          "output_type": "execute_result",
          "data": {
            "text/html": [
              "<div>\n",
              "<style scoped>\n",
              "    .dataframe tbody tr th:only-of-type {\n",
              "        vertical-align: middle;\n",
              "    }\n",
              "\n",
              "    .dataframe tbody tr th {\n",
              "        vertical-align: top;\n",
              "    }\n",
              "\n",
              "    .dataframe thead th {\n",
              "        text-align: right;\n",
              "    }\n",
              "</style>\n",
              "<table border=\"1\" class=\"dataframe\">\n",
              "  <thead>\n",
              "    <tr style=\"text-align: right;\">\n",
              "      <th></th>\n",
              "      <th>Person</th>\n",
              "      <th>gender</th>\n",
              "      <th>Age</th>\n",
              "      <th>Height</th>\n",
              "      <th>pre.weight</th>\n",
              "      <th>Diet</th>\n",
              "      <th>weight6weeks</th>\n",
              "      <th>weightlost</th>\n",
              "    </tr>\n",
              "  </thead>\n",
              "  <tbody>\n",
              "    <tr>\n",
              "      <th>2</th>\n",
              "      <td>1</td>\n",
              "      <td>0</td>\n",
              "      <td>22</td>\n",
              "      <td>159</td>\n",
              "      <td>58</td>\n",
              "      <td>1</td>\n",
              "      <td>54.2</td>\n",
              "      <td>3.8</td>\n",
              "    </tr>\n",
              "    <tr>\n",
              "      <th>73</th>\n",
              "      <td>74</td>\n",
              "      <td>1</td>\n",
              "      <td>35</td>\n",
              "      <td>183</td>\n",
              "      <td>83</td>\n",
              "      <td>3</td>\n",
              "      <td>80.2</td>\n",
              "      <td>2.8</td>\n",
              "    </tr>\n",
              "    <tr>\n",
              "      <th>19</th>\n",
              "      <td>30</td>\n",
              "      <td>0</td>\n",
              "      <td>43</td>\n",
              "      <td>171</td>\n",
              "      <td>61</td>\n",
              "      <td>2</td>\n",
              "      <td>56.7</td>\n",
              "      <td>4.3</td>\n",
              "    </tr>\n",
              "    <tr>\n",
              "      <th>7</th>\n",
              "      <td>6</td>\n",
              "      <td>0</td>\n",
              "      <td>50</td>\n",
              "      <td>201</td>\n",
              "      <td>66</td>\n",
              "      <td>1</td>\n",
              "      <td>64.0</td>\n",
              "      <td>2.0</td>\n",
              "    </tr>\n",
              "    <tr>\n",
              "      <th>23</th>\n",
              "      <td>34</td>\n",
              "      <td>0</td>\n",
              "      <td>54</td>\n",
              "      <td>173</td>\n",
              "      <td>63</td>\n",
              "      <td>2</td>\n",
              "      <td>59.4</td>\n",
              "      <td>3.6</td>\n",
              "    </tr>\n",
              "    <tr>\n",
              "      <th>50</th>\n",
              "      <td>20</td>\n",
              "      <td>1</td>\n",
              "      <td>25</td>\n",
              "      <td>165</td>\n",
              "      <td>80</td>\n",
              "      <td>1</td>\n",
              "      <td>77.6</td>\n",
              "      <td>2.4</td>\n",
              "    </tr>\n",
              "    <tr>\n",
              "      <th>47</th>\n",
              "      <td>17</td>\n",
              "      <td>1</td>\n",
              "      <td>40</td>\n",
              "      <td>173</td>\n",
              "      <td>74</td>\n",
              "      <td>1</td>\n",
              "      <td>69.5</td>\n",
              "      <td>4.5</td>\n",
              "    </tr>\n",
              "    <tr>\n",
              "      <th>32</th>\n",
              "      <td>54</td>\n",
              "      <td>0</td>\n",
              "      <td>21</td>\n",
              "      <td>159</td>\n",
              "      <td>64</td>\n",
              "      <td>3</td>\n",
              "      <td>60.6</td>\n",
              "      <td>3.4</td>\n",
              "    </tr>\n",
              "    <tr>\n",
              "      <th>46</th>\n",
              "      <td>16</td>\n",
              "      <td>1</td>\n",
              "      <td>31</td>\n",
              "      <td>158</td>\n",
              "      <td>72</td>\n",
              "      <td>1</td>\n",
              "      <td>70.9</td>\n",
              "      <td>1.1</td>\n",
              "    </tr>\n",
              "    <tr>\n",
              "      <th>13</th>\n",
              "      <td>12</td>\n",
              "      <td>0</td>\n",
              "      <td>48</td>\n",
              "      <td>156</td>\n",
              "      <td>72</td>\n",
              "      <td>1</td>\n",
              "      <td>69.0</td>\n",
              "      <td>3.0</td>\n",
              "    </tr>\n",
              "  </tbody>\n",
              "</table>\n",
              "</div>"
            ],
            "text/plain": [
              "    Person gender  Age  Height  pre.weight  Diet  weight6weeks  weightlost\n",
              "2        1      0   22     159          58     1          54.2         3.8\n",
              "73      74      1   35     183          83     3          80.2         2.8\n",
              "19      30      0   43     171          61     2          56.7         4.3\n",
              "7        6      0   50     201          66     1          64.0         2.0\n",
              "23      34      0   54     173          63     2          59.4         3.6\n",
              "50      20      1   25     165          80     1          77.6         2.4\n",
              "47      17      1   40     173          74     1          69.5         4.5\n",
              "32      54      0   21     159          64     3          60.6         3.4\n",
              "46      16      1   31     158          72     1          70.9         1.1\n",
              "13      12      0   48     156          72     1          69.0         3.0"
            ]
          },
          "metadata": {
            "tags": []
          },
          "execution_count": 11
        }
      ]
    },
    {
      "cell_type": "markdown",
      "metadata": {
        "id": "o5pR2-xp3AQI"
      },
      "source": [
        "<hr>"
      ]
    },
    {
      "cell_type": "markdown",
      "metadata": {
        "id": "rmMuBByCFvEF"
      },
      "source": [
        "###**Summary statistics by diet**"
      ]
    },
    {
      "cell_type": "code",
      "metadata": {
        "colab": {
          "base_uri": "https://localhost:8080/",
          "height": 357
        },
        "id": "jhiLV2q3IZWt",
        "outputId": "a4f37ec3-4824-407b-8a0c-681a21351308"
      },
      "source": [
        "# phân nhóm giá trị weightlost theo diet\n",
        "weightlost_1 = df[(df['Diet'] == 1)][\"weightlost\"]\n",
        "weightlost_2 = df[(df['Diet'] == 2)][\"weightlost\"]\n",
        "weightlost_3 = df[(df['Diet'] == 3)][\"weightlost\"]\n",
        "weight_lost = list(zip(weightlost_1, weightlost_2, weightlost_3))\n",
        "df_diet =  pd.DataFrame(weight_lost, columns = (\"Diet 1\", \"Diet 2\", \"Diet 3\"))\n",
        "df_diet.sample(10)"
      ],
      "execution_count": 12,
      "outputs": [
        {
          "output_type": "execute_result",
          "data": {
            "text/html": [
              "<div>\n",
              "<style scoped>\n",
              "    .dataframe tbody tr th:only-of-type {\n",
              "        vertical-align: middle;\n",
              "    }\n",
              "\n",
              "    .dataframe tbody tr th {\n",
              "        vertical-align: top;\n",
              "    }\n",
              "\n",
              "    .dataframe thead th {\n",
              "        text-align: right;\n",
              "    }\n",
              "</style>\n",
              "<table border=\"1\" class=\"dataframe\">\n",
              "  <thead>\n",
              "    <tr style=\"text-align: right;\">\n",
              "      <th></th>\n",
              "      <th>Diet 1</th>\n",
              "      <th>Diet 2</th>\n",
              "      <th>Diet 3</th>\n",
              "    </tr>\n",
              "  </thead>\n",
              "  <tbody>\n",
              "    <tr>\n",
              "      <th>11</th>\n",
              "      <td>3.0</td>\n",
              "      <td>4.7</td>\n",
              "      <td>7.6</td>\n",
              "    </tr>\n",
              "    <tr>\n",
              "      <th>8</th>\n",
              "      <td>1.9</td>\n",
              "      <td>3.0</td>\n",
              "      <td>7.0</td>\n",
              "    </tr>\n",
              "    <tr>\n",
              "      <th>22</th>\n",
              "      <td>5.1</td>\n",
              "      <td>7.9</td>\n",
              "      <td>2.8</td>\n",
              "    </tr>\n",
              "    <tr>\n",
              "      <th>15</th>\n",
              "      <td>1.1</td>\n",
              "      <td>2.4</td>\n",
              "      <td>2.5</td>\n",
              "    </tr>\n",
              "    <tr>\n",
              "      <th>0</th>\n",
              "      <td>3.8</td>\n",
              "      <td>-2.1</td>\n",
              "      <td>7.0</td>\n",
              "    </tr>\n",
              "    <tr>\n",
              "      <th>14</th>\n",
              "      <td>-0.6</td>\n",
              "      <td>4.2</td>\n",
              "      <td>5.0</td>\n",
              "    </tr>\n",
              "    <tr>\n",
              "      <th>18</th>\n",
              "      <td>9.0</td>\n",
              "      <td>5.3</td>\n",
              "      <td>0.5</td>\n",
              "    </tr>\n",
              "    <tr>\n",
              "      <th>21</th>\n",
              "      <td>3.5</td>\n",
              "      <td>6.1</td>\n",
              "      <td>4.5</td>\n",
              "    </tr>\n",
              "    <tr>\n",
              "      <th>6</th>\n",
              "      <td>2.0</td>\n",
              "      <td>2.7</td>\n",
              "      <td>6.8</td>\n",
              "    </tr>\n",
              "    <tr>\n",
              "      <th>7</th>\n",
              "      <td>8.5</td>\n",
              "      <td>3.6</td>\n",
              "      <td>7.2</td>\n",
              "    </tr>\n",
              "  </tbody>\n",
              "</table>\n",
              "</div>"
            ],
            "text/plain": [
              "    Diet 1  Diet 2  Diet 3\n",
              "11     3.0     4.7     7.6\n",
              "8      1.9     3.0     7.0\n",
              "22     5.1     7.9     2.8\n",
              "15     1.1     2.4     2.5\n",
              "0      3.8    -2.1     7.0\n",
              "14    -0.6     4.2     5.0\n",
              "18     9.0     5.3     0.5\n",
              "21     3.5     6.1     4.5\n",
              "6      2.0     2.7     6.8\n",
              "7      8.5     3.6     7.2"
            ]
          },
          "metadata": {
            "tags": []
          },
          "execution_count": 12
        }
      ]
    },
    {
      "cell_type": "code",
      "metadata": {
        "colab": {
          "base_uri": "https://localhost:8080/",
          "height": 693
        },
        "id": "foOIPJnlF0om",
        "outputId": "b8046063-9e97-4b3c-ae55-914147c5ed5a"
      },
      "source": [
        "#Thống kê tóm tắt theo chế độ ăn uống\n",
        "su_stat = df_diet.agg(\n",
        "      {\n",
        "          \"Diet 1\": [\"min\", \"max\", \"mean\", \"median\", \"std\"],\n",
        "          \"Diet 2\": [\"min\", \"max\", \"mean\", \"median\", \"std\"],\n",
        "          \"Diet 3\": [\"min\", \"max\", \"mean\", \"median\", \"std\"]\n",
        "      }\n",
        ").T\n",
        "print(su_stat)\n",
        "print(\"\\n\")\n",
        "def box_plot(data): #vẽ đồ thị boxplot\n",
        "  fig, ax = plt.subplots(figsize=(10,10))\n",
        "  sns.boxplot(data= data,width=0.2, fliersize=12, flierprops = dict(marker=\".\",markerfacecolor='r'))\n",
        "box_plot(df_diet)"
      ],
      "execution_count": 13,
      "outputs": [
        {
          "output_type": "stream",
          "text": [
            "        min  max      mean  median       std\n",
            "Diet 1 -0.6  9.0  3.300000    3.05  2.240148\n",
            "Diet 2 -2.1  7.9  3.225000    3.40  2.507944\n",
            "Diet 3  0.5  8.6  4.933333    5.20  2.384309\n",
            "\n",
            "\n"
          ],
          "name": "stdout"
        },
        {
          "output_type": "display_data",
          "data": {
            "image/png": "[encoded data removed]",
            "text/plain": [
              "<Figure size 720x720 with 1 Axes>"
            ]
          },
          "metadata": {
            "tags": [],
            "needs_background": "light"
          }
        }
      ]
    },
    {
      "cell_type": "markdown",
      "metadata": {
        "id": "p_cK66E526FE"
      },
      "source": [
        "<hr>"
      ]
    },
    {
      "cell_type": "markdown",
      "metadata": {
        "id": "Uo9byBv8Qili"
      },
      "source": [
        "###**kiểm định ANOVA**"
      ]
    },
    {
      "cell_type": "markdown",
      "metadata": {
        "id": "aubhlauS1d9T"
      },
      "source": [
        "**kiểm tra phân phối chuẩn:**"
      ]
    },
    {
      "cell_type": "code",
      "metadata": {
        "colab": {
          "base_uri": "https://localhost:8080/"
        },
        "id": "nAnI_YG_c_7u",
        "outputId": "b82e0965-d2d3-4ea3-d656-10d6a990c2aa"
      },
      "source": [
        "shapiro(df_diet) #kiểm tra phân phối chuẩn bằng shapiro"
      ],
      "execution_count": 14,
      "outputs": [
        {
          "output_type": "stream",
          "text": [
            "không có bằng chứng để bác bỏ giả thiết H0: mẫu Diet 1 tuân theo phân phối chuẩn\n",
            "không có bằng chứng để bác bỏ giả thiết H0: mẫu Diet 2 tuân theo phân phối chuẩn\n",
            "không có bằng chứng để bác bỏ giả thiết H0: mẫu Diet 3 tuân theo phân phối chuẩn\n",
            "\n"
          ],
          "name": "stdout"
        }
      ]
    },
    {
      "cell_type": "code",
      "metadata": {
        "colab": {
          "base_uri": "https://localhost:8080/",
          "height": 559
        },
        "id": "TsYrHcJR1lsy",
        "outputId": "53be56ea-654c-4f7e-ae6b-d2ad9d2564cb"
      },
      "source": [
        "hist(df_diet) #kiểm tra phân phối chuẩn bằng đồ thị histogram\n",
        "qq_plot(df_diet) #kiểm tra phân phối chuẩn bằng qq plot"
      ],
      "execution_count": 15,
      "outputs": [
        {
          "output_type": "display_data",
          "data": {
            "image/png": "[encoded data removed]",
            "text/plain": [
              "<Figure size 1440x288 with 3 Axes>"
            ]
          },
          "metadata": {
            "tags": [],
            "needs_background": "light"
          }
        },
        {
          "output_type": "display_data",
          "data": {
            "image/png": "[encoded data removed]",
            "text/plain": [
              "<Figure size 1440x288 with 3 Axes>"
            ]
          },
          "metadata": {
            "tags": [],
            "needs_background": "light"
          }
        }
      ]
    },
    {
      "cell_type": "markdown",
      "metadata": {
        "id": "m3fX241X11vh"
      },
      "source": [
        "**Kiểm tra tính đồng nhất về phương sai:**"
      ]
    },
    {
      "cell_type": "code",
      "metadata": {
        "colab": {
          "base_uri": "https://localhost:8080/"
        },
        "id": "vgh9OEFg18Wk",
        "outputId": "68bfadd9-77ff-4d9a-ab67-41a69583617b"
      },
      "source": [
        "levene(df_diet)  #kiểm tra tính đồng nhất về phương sai"
      ],
      "execution_count": 16,
      "outputs": [
        {
          "output_type": "stream",
          "text": [
            "không có bằng chứng để bác bỏ giả thiết H0: Phương sai đồng nhất\n",
            "\n"
          ],
          "name": "stdout"
        }
      ]
    },
    {
      "cell_type": "markdown",
      "metadata": {
        "id": "UdNQQVY91_W9"
      },
      "source": [
        "**Kiểm tra tính đồng nhất về giá trị trung bình:**"
      ]
    },
    {
      "cell_type": "code",
      "metadata": {
        "colab": {
          "base_uri": "https://localhost:8080/"
        },
        "id": "MFyqLOGM2KrC",
        "outputId": "cdf610cd-e5e1-402c-a504-132907513e6c"
      },
      "source": [
        "anova(df_diet) #phân tích anova"
      ],
      "execution_count": 17,
      "outputs": [
        {
          "output_type": "stream",
          "text": [
            "có bằng chứng để bác bỏ giả thiết H0, điều này ngụ ý chấp nhận giả thiết H1: Có tối thiểu một cặp giá trị trung bình có giá trị khác nhau\n"
          ],
          "name": "stdout"
        }
      ]
    },
    {
      "cell_type": "markdown",
      "metadata": {
        "id": "eZqDCVQD2ayv"
      },
      "source": [
        "<br>\n",
        "<br>"
      ]
    },
    {
      "cell_type": "code",
      "metadata": {
        "colab": {
          "base_uri": "https://localhost:8080/",
          "height": 80
        },
        "id": "8D-MB4ybekwz",
        "outputId": "2258e83f-b859-44d5-80f3-816dae9cfa60"
      },
      "source": [
        "p = {}\n",
        "p['mean1'] = np.mean(df_diet[\"Diet 1\"])\n",
        "p['mean2'] = np.mean(df_diet[\"Diet 2\"])\n",
        "p['mean3'] = np.mean(df_diet[\"Diet 3\"])\n",
        "dt = pd.DataFrame(p, index=[''])\n",
        "dt"
      ],
      "execution_count": 18,
      "outputs": [
        {
          "output_type": "execute_result",
          "data": {
            "text/html": [
              "<div>\n",
              "<style scoped>\n",
              "    .dataframe tbody tr th:only-of-type {\n",
              "        vertical-align: middle;\n",
              "    }\n",
              "\n",
              "    .dataframe tbody tr th {\n",
              "        vertical-align: top;\n",
              "    }\n",
              "\n",
              "    .dataframe thead th {\n",
              "        text-align: right;\n",
              "    }\n",
              "</style>\n",
              "<table border=\"1\" class=\"dataframe\">\n",
              "  <thead>\n",
              "    <tr style=\"text-align: right;\">\n",
              "      <th></th>\n",
              "      <th>mean1</th>\n",
              "      <th>mean2</th>\n",
              "      <th>mean3</th>\n",
              "    </tr>\n",
              "  </thead>\n",
              "  <tbody>\n",
              "    <tr>\n",
              "      <th></th>\n",
              "      <td>3.3</td>\n",
              "      <td>3.225</td>\n",
              "      <td>4.933333</td>\n",
              "    </tr>\n",
              "  </tbody>\n",
              "</table>\n",
              "</div>"
            ],
            "text/plain": [
              "  mean1  mean2     mean3\n",
              "    3.3  3.225  4.933333"
            ]
          },
          "metadata": {
            "tags": []
          },
          "execution_count": 18
        }
      ]
    },
    {
      "cell_type": "markdown",
      "metadata": {
        "id": "sktwXXRGeNj4"
      },
      "source": [
        "**=> kết luận:** chế độ ăn ảnh hưởng đến việc giảm cân\n",
        "- chế độ ăn hiệu quả nhất là nhóm diet 3"
      ]
    },
    {
      "cell_type": "markdown",
      "metadata": {
        "id": "iA3JUxXB2wGj"
      },
      "source": [
        "<hr>"
      ]
    },
    {
      "cell_type": "markdown",
      "metadata": {
        "id": "MufjWK2TqpjL"
      },
      "source": [
        "###**Giới tính**"
      ]
    },
    {
      "cell_type": "markdown",
      "metadata": {
        "id": "bvpuHfUjq5Rg"
      },
      "source": [
        "**phát biểu giả thiết:**\n",
        "- h0: Chỉ số giảm cân của nam và nữ bằng nhau\n",
        "- h1: Chỉ số giảm cân của nam và nữ khác nhau"
      ]
    },
    {
      "cell_type": "code",
      "metadata": {
        "colab": {
          "base_uri": "https://localhost:8080/"
        },
        "id": "MRcPWJvEqp8Y",
        "outputId": "aaf4a79e-fb56-41df-f24b-a0d738573f42"
      },
      "source": [
        "stat, p = stats.ttest_ind(df[(df[\"gender\"] == '0')][\"weightlost\"], df[(df[\"gender\"] == '1')][\"weightlost\"])\n",
        "print('Stat =', stat, 'P_value =', p)\n",
        "if p > 0.05:\n",
        "    print(\"không có bằng chứng để bác bỏ giả thiết H0: Chỉ số giảm cân của nam và nữ bằng nhau\")\n",
        "else:\n",
        "    print(\"có bằng chứng để bác bỏ giả thiết H0, điều này ngụ ý chấp nhận giả thiết H1: Chỉ số giảm cân của nam và nữ khác nhau\")"
      ],
      "execution_count": 19,
      "outputs": [
        {
          "output_type": "stream",
          "text": [
            "Stat = -0.20925085653363862 P_value = 0.8348273886348047\n",
            "không có bằng chứng để bác bỏ giả thiết H0: Chỉ số giảm cân của nam và nữ bằng nhau\n"
          ],
          "name": "stdout"
        }
      ]
    },
    {
      "cell_type": "code",
      "metadata": {
        "colab": {
          "base_uri": "https://localhost:8080/",
          "height": 80
        },
        "id": "c4_uSCQhOs9q",
        "outputId": "784bd843-fc63-4eaf-bd6b-5abff75b6b09"
      },
      "source": [
        "p = {}\n",
        "p['mean1'] = np.mean(df[(df[\"gender\"] == '0')][\"weightlost\"])\n",
        "p['mean2'] = np.mean(df[(df[\"gender\"] == '1')][\"weightlost\"])\n",
        "p['score'], p['p_value'] = stats.ttest_1samp(df[(df[\"gender\"] == '0')][\"weightlost\"], p['mean2'])\n",
        "results(p)"
      ],
      "execution_count": 20,
      "outputs": [
        {
          "output_type": "execute_result",
          "data": {
            "text/html": [
              "<div>\n",
              "<style scoped>\n",
              "    .dataframe tbody tr th:only-of-type {\n",
              "        vertical-align: middle;\n",
              "    }\n",
              "\n",
              "    .dataframe tbody tr th {\n",
              "        vertical-align: top;\n",
              "    }\n",
              "\n",
              "    .dataframe thead th {\n",
              "        text-align: right;\n",
              "    }\n",
              "</style>\n",
              "<table border=\"1\" class=\"dataframe\">\n",
              "  <thead>\n",
              "    <tr style=\"text-align: right;\">\n",
              "      <th></th>\n",
              "      <th>mean1</th>\n",
              "      <th>mean2</th>\n",
              "      <th>score</th>\n",
              "      <th>p_value</th>\n",
              "      <th>KetLuan</th>\n",
              "    </tr>\n",
              "  </thead>\n",
              "  <tbody>\n",
              "    <tr>\n",
              "      <th></th>\n",
              "      <td>3.893023</td>\n",
              "      <td>4.015152</td>\n",
              "      <td>-0.318316</td>\n",
              "      <td>0.751823</td>\n",
              "      <td>Chấp nhận H0 với mức ý nghĩa 0.05</td>\n",
              "    </tr>\n",
              "  </tbody>\n",
              "</table>\n",
              "</div>"
            ],
            "text/plain": [
              "     mean1     mean2     score   p_value                            KetLuan\n",
              "  3.893023  4.015152 -0.318316  0.751823  Chấp nhận H0 với mức ý nghĩa 0.05"
            ]
          },
          "metadata": {
            "tags": []
          },
          "execution_count": 20
        }
      ]
    },
    {
      "cell_type": "markdown",
      "metadata": {
        "id": "af9hQ2uFgEpU"
      },
      "source": [
        "**=> Kết luận:** Giới tính không ảnh hưởng đến việc giảm cân\n",
        "\n"
      ]
    },
    {
      "cell_type": "markdown",
      "metadata": {
        "id": "Fnybuq0U2zqf"
      },
      "source": [
        "<br>\n",
        "<hr>"
      ]
    },
    {
      "cell_type": "markdown",
      "metadata": {
        "id": "YLtSE45Q5MP1"
      },
      "source": [
        "###**Means plot of weight lost by diet and gender**"
      ]
    },
    {
      "cell_type": "code",
      "metadata": {
        "id": "ml6gnht68MRY"
      },
      "source": [
        "mean_we_01 = df[(df[\"gender\"] == '0') & (df[\"Diet\"] == 1)][\"weightlost\"].mean()\n",
        "mean_we_02 = df[(df[\"gender\"] == '0') & (df[\"Diet\"] == 2)][\"weightlost\"].mean()\n",
        "mean_we_03 = df[(df[\"gender\"] == '0') & (df[\"Diet\"] == 3)][\"weightlost\"].mean()\n",
        "\n",
        "mean_we_11 = df[(df[\"gender\"] == '1') & (df[\"Diet\"] == 1)][\"weightlost\"].mean()\n",
        "mean_we_12 = df[(df[\"gender\"] == '1') & (df[\"Diet\"] == 2)][\"weightlost\"].mean()\n",
        "mean_we_13 = df[(df[\"gender\"] == '1') & (df[\"Diet\"] == 3)][\"weightlost\"].mean()"
      ],
      "execution_count": 21,
      "outputs": []
    },
    {
      "cell_type": "code",
      "metadata": {
        "colab": {
          "base_uri": "https://localhost:8080/",
          "height": 518
        },
        "id": "dfwKi9eE5UP0",
        "outputId": "b18eb564-7eeb-4ab2-e47c-357b726826df"
      },
      "source": [
        "plt.figure(figsize=(13, 8))\n",
        "plt.plot([1, 2, 3],[mean_we_01, mean_we_02, mean_we_03],'b-o',label='Gender 0', color=\"#ff3737\");\n",
        "plt.plot([1, 2, 3],[mean_we_11, mean_we_12, mean_we_13],'b-o',label='Gender 1');\n",
        "plt.title('Plots of weight lost by diet and gender', fontsize= 20)\n",
        "plt.xlabel('diet')\n",
        "plt.ylabel('weightlost')\n",
        "plt.legend()\n",
        "plt.show()"
      ],
      "execution_count": 22,
      "outputs": [
        {
          "output_type": "display_data",
          "data": {
            "image/png": "[encoded data removed]",
            "text/plain": [
              "<Figure size 936x576 with 1 Axes>"
            ]
          },
          "metadata": {
            "tags": [],
            "needs_background": "light"
          }
        }
      ]
    },
    {
      "cell_type": "markdown",
      "metadata": {
        "id": "k-Hxp95UiE8b"
      },
      "source": [
        "###**chiều cao**"
      ]
    },
    {
      "cell_type": "code",
      "metadata": {
        "colab": {
          "base_uri": "https://localhost:8080/",
          "height": 326
        },
        "id": "xtKuREaxiD-A",
        "outputId": "764dadd5-a4ec-4e54-cf41-216e6872288c"
      },
      "source": [
        "# phân nhóm theo chiều cao\n",
        "height_1 = df[(df['Height'] < 160)][\"weightlost\"]                         #chiều cao dưới 160 cm\n",
        "height_2 = df[(df['Height'] < 170) & (df['Height'] >= 160)][\"weightlost\"] #chiều cao từ 160 đến dưới 170 cm\n",
        "height_3 = df[(df['Height'] < 180) & (df['Height'] >= 170)][\"weightlost\"] #chiều cao từ 170 đến dưới 180 cm \n",
        "height_4 = df[(df['Height'] >= 180)][\"weightlost\"]                        #chiều cao trên 180 cm\n",
        "#lấy mẫu để kiểm định anova\n",
        "height_sp1 = height_1.sample(9)\n",
        "height_sp2 = height_2.sample(9)\n",
        "height_sp3 = height_3.sample(9)\n",
        "height_sp4 = height_4.sample(9)\n",
        "#gộp các nhóm lại thành dataframe\n",
        "weight_lost = list(zip(height_sp1, height_sp2, height_sp3, height_sp4))\n",
        "df_height =  pd.DataFrame(weight_lost, columns = (\"lùn\", \"vừa\", \"cao\", \"rất cao\"))\n",
        "df_height"
      ],
      "execution_count": 23,
      "outputs": [
        {
          "output_type": "execute_result",
          "data": {
            "text/html": [
              "<div>\n",
              "<style scoped>\n",
              "    .dataframe tbody tr th:only-of-type {\n",
              "        vertical-align: middle;\n",
              "    }\n",
              "\n",
              "    .dataframe tbody tr th {\n",
              "        vertical-align: top;\n",
              "    }\n",
              "\n",
              "    .dataframe thead th {\n",
              "        text-align: right;\n",
              "    }\n",
              "</style>\n",
              "<table border=\"1\" class=\"dataframe\">\n",
              "  <thead>\n",
              "    <tr style=\"text-align: right;\">\n",
              "      <th></th>\n",
              "      <th>lùn</th>\n",
              "      <th>vừa</th>\n",
              "      <th>cao</th>\n",
              "      <th>rất cao</th>\n",
              "    </tr>\n",
              "  </thead>\n",
              "  <tbody>\n",
              "    <tr>\n",
              "      <th>0</th>\n",
              "      <td>6.3</td>\n",
              "      <td>5.6</td>\n",
              "      <td>4.1</td>\n",
              "      <td>3.5</td>\n",
              "    </tr>\n",
              "    <tr>\n",
              "      <th>1</th>\n",
              "      <td>1.1</td>\n",
              "      <td>3.1</td>\n",
              "      <td>4.5</td>\n",
              "      <td>6.0</td>\n",
              "    </tr>\n",
              "    <tr>\n",
              "      <th>2</th>\n",
              "      <td>2.5</td>\n",
              "      <td>6.8</td>\n",
              "      <td>2.8</td>\n",
              "      <td>2.8</td>\n",
              "    </tr>\n",
              "    <tr>\n",
              "      <th>3</th>\n",
              "      <td>7.0</td>\n",
              "      <td>2.0</td>\n",
              "      <td>3.6</td>\n",
              "      <td>-1.4</td>\n",
              "    </tr>\n",
              "    <tr>\n",
              "      <th>4</th>\n",
              "      <td>3.0</td>\n",
              "      <td>7.0</td>\n",
              "      <td>2.9</td>\n",
              "      <td>1.7</td>\n",
              "    </tr>\n",
              "    <tr>\n",
              "      <th>5</th>\n",
              "      <td>3.8</td>\n",
              "      <td>4.7</td>\n",
              "      <td>2.0</td>\n",
              "      <td>3.5</td>\n",
              "    </tr>\n",
              "    <tr>\n",
              "      <th>6</th>\n",
              "      <td>3.4</td>\n",
              "      <td>1.7</td>\n",
              "      <td>6.1</td>\n",
              "      <td>2.4</td>\n",
              "    </tr>\n",
              "    <tr>\n",
              "      <th>7</th>\n",
              "      <td>5.0</td>\n",
              "      <td>9.2</td>\n",
              "      <td>-2.1</td>\n",
              "      <td>4.2</td>\n",
              "    </tr>\n",
              "    <tr>\n",
              "      <th>8</th>\n",
              "      <td>7.2</td>\n",
              "      <td>5.4</td>\n",
              "      <td>8.5</td>\n",
              "      <td>2.0</td>\n",
              "    </tr>\n",
              "  </tbody>\n",
              "</table>\n",
              "</div>"
            ],
            "text/plain": [
              "   lùn  vừa  cao  rất cao\n",
              "0  6.3  5.6  4.1      3.5\n",
              "1  1.1  3.1  4.5      6.0\n",
              "2  2.5  6.8  2.8      2.8\n",
              "3  7.0  2.0  3.6     -1.4\n",
              "4  3.0  7.0  2.9      1.7\n",
              "5  3.8  4.7  2.0      3.5\n",
              "6  3.4  1.7  6.1      2.4\n",
              "7  5.0  9.2 -2.1      4.2\n",
              "8  7.2  5.4  8.5      2.0"
            ]
          },
          "metadata": {
            "tags": []
          },
          "execution_count": 23
        }
      ]
    },
    {
      "cell_type": "code",
      "metadata": {
        "colab": {
          "base_uri": "https://localhost:8080/",
          "height": 559
        },
        "id": "jCGZL1i1T3o5",
        "outputId": "af18b02b-fa30-44ee-f76c-85e5f53a786f"
      },
      "source": [
        "hist(df_height)       #kiểm tra phân phối chuẩn bằng histogram\n",
        "qq_plot(df_height)    #kiểm tra phân phối chuẩn bằng qq plot"
      ],
      "execution_count": 24,
      "outputs": [
        {
          "output_type": "display_data",
          "data": {
            "image/png": "[encoded data removed]",
            "text/plain": [
              "<Figure size 1440x288 with 4 Axes>"
            ]
          },
          "metadata": {
            "tags": [],
            "needs_background": "light"
          }
        },
        {
          "output_type": "display_data",
          "data": {
            "image/png": "[encoded data removed]",
            "text/plain": [
              "<Figure size 1440x288 with 4 Axes>"
            ]
          },
          "metadata": {
            "tags": [],
            "needs_background": "light"
          }
        }
      ]
    },
    {
      "cell_type": "code",
      "metadata": {
        "colab": {
          "base_uri": "https://localhost:8080/"
        },
        "id": "SwXql_BrmrEY",
        "outputId": "2df1da88-ba79-45b4-ddb3-dc43824613ea"
      },
      "source": [
        "shapiro(df_height)\n",
        "levene(df_height)\n",
        "anova(df_height)"
      ],
      "execution_count": 25,
      "outputs": [
        {
          "output_type": "stream",
          "text": [
            "không có bằng chứng để bác bỏ giả thiết H0: mẫu lùn tuân theo phân phối chuẩn\n",
            "không có bằng chứng để bác bỏ giả thiết H0: mẫu vừa tuân theo phân phối chuẩn\n",
            "không có bằng chứng để bác bỏ giả thiết H0: mẫu cao tuân theo phân phối chuẩn\n",
            "không có bằng chứng để bác bỏ giả thiết H0: mẫu rất cao tuân theo phân phối chuẩn\n",
            "\n",
            "không có bằng chứng để bác bỏ giả thiết H0: Phương sai đồng nhất\n",
            "\n",
            "không có bằng chứng để bác bỏ giả thiết H0: các giá trị trung bình bằng nhau\n"
          ],
          "name": "stdout"
        }
      ]
    },
    {
      "cell_type": "markdown",
      "metadata": {
        "id": "byfLXho2m2nN"
      },
      "source": [
        "**=> kết luận:** chiều cao không ảnh hưởng đến việc giảm cân"
      ]
    },
    {
      "cell_type": "markdown",
      "metadata": {
        "id": "c7GHykipwViW"
      },
      "source": [
        "<br>\n",
        "<br>\n",
        "<br>\n",
        "<br>\n",
        "<hr>"
      ]
    }
  ]
}