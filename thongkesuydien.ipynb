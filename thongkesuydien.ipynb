{
  "nbformat": 4,
  "nbformat_minor": 0,
  "metadata": {
    "colab": {
      "name": "thongkesuydien.ipynb",
      "provenance": [],
      "collapsed_sections": [],
      "authorship_tag": "ABX9TyP/bZysDv02+HfSuyi86JXG",
      "include_colab_link": true
    },
    "kernelspec": {
      "name": "python3",
      "display_name": "Python 3"
    },
    "language_info": {
      "name": "python"
    }
  },
  "cells": [
    {
      "cell_type": "markdown",
      "metadata": {
        "id": "view-in-github",
        "colab_type": "text"
      },
      "source": [
        "<a href=\"https://colab.research.google.com/github/phantheminhchau1/phantichdulieupython/blob/main/thongkesuydien.ipynb\" target=\"_parent\"><img src=\"https://colab.research.google.com/assets/colab-badge.svg\" alt=\"Open In Colab\"/></a>"
      ]
    },
    {
      "cell_type": "markdown",
      "metadata": {
        "id": "_XllGVaiSxMg"
      },
      "source": [
        "<font size = 200><center>Thống kê suy diễn</center></font>\n",
        "<hr  width=\"30%\" align=\"center\" />\n",
        "<p align='right'>Phan Thế Minh Châu</p>\n",
        "<p align='right'>20E1020067</p>\n",
        "<br>"
      ]
    },
    {
      "cell_type": "markdown",
      "metadata": {
        "id": "BPnSdjPLZkA9"
      },
      "source": [
        "**khai báo thư viện:**"
      ]
    },
    {
      "cell_type": "code",
      "metadata": {
        "id": "GWO9MoLo-Gtl"
      },
      "source": [
        "import numpy as np\n",
        "import pandas as pd\n",
        "from scipy import stats\n",
        "import statsmodels.api as sm\n",
        "import matplotlib.pyplot as plt\n",
        "import seaborn as sns\n",
        "import warnings\n",
        "warnings.simplefilter(action=\"ignore\", category=FutureWarning)"
      ],
      "execution_count": null,
      "outputs": []
    },
    {
      "cell_type": "markdown",
      "metadata": {
        "id": "gHgynwDO3O3Y"
      },
      "source": [
        "<hr>"
      ]
    },
    {
      "cell_type": "markdown",
      "metadata": {
        "id": "7ZWfuVPVfxlH"
      },
      "source": [
        "**đọc dữ liệu:**"
      ]
    },
    {
      "cell_type": "code",
      "metadata": {
        "colab": {
          "base_uri": "https://localhost:8080/",
          "height": 357
        },
        "id": "wvOc4ADacd18",
        "outputId": "c2762acf-436f-4035-ac2a-d8bd8cdb19b2"
      },
      "source": [
        "df = pd.read_csv(\"https://raw.githubusercontent.com/PhanTheMinhChau/phantichdulieupython/main/data/Diet_R.csv\")\n",
        "df.sample(10)"
      ],
      "execution_count": 2,
      "outputs": [
        {
          "output_type": "execute_result",
          "data": {
            "text/html": [
              "<div>\n",
              "<style scoped>\n",
              "    .dataframe tbody tr th:only-of-type {\n",
              "        vertical-align: middle;\n",
              "    }\n",
              "\n",
              "    .dataframe tbody tr th {\n",
              "        vertical-align: top;\n",
              "    }\n",
              "\n",
              "    .dataframe thead th {\n",
              "        text-align: right;\n",
              "    }\n",
              "</style>\n",
              "<table border=\"1\" class=\"dataframe\">\n",
              "  <thead>\n",
              "    <tr style=\"text-align: right;\">\n",
              "      <th></th>\n",
              "      <th>Person</th>\n",
              "      <th>gender</th>\n",
              "      <th>Age</th>\n",
              "      <th>Height</th>\n",
              "      <th>pre.weight</th>\n",
              "      <th>Diet</th>\n",
              "      <th>weight6weeks</th>\n",
              "    </tr>\n",
              "  </thead>\n",
              "  <tbody>\n",
              "    <tr>\n",
              "      <th>57</th>\n",
              "      <td>43</td>\n",
              "      <td>1</td>\n",
              "      <td>54</td>\n",
              "      <td>196</td>\n",
              "      <td>75</td>\n",
              "      <td>2</td>\n",
              "      <td>69.2</td>\n",
              "    </tr>\n",
              "    <tr>\n",
              "      <th>33</th>\n",
              "      <td>55</td>\n",
              "      <td>0</td>\n",
              "      <td>22</td>\n",
              "      <td>169</td>\n",
              "      <td>65</td>\n",
              "      <td>3</td>\n",
              "      <td>58.2</td>\n",
              "    </tr>\n",
              "    <tr>\n",
              "      <th>75</th>\n",
              "      <td>76</td>\n",
              "      <td>1</td>\n",
              "      <td>28</td>\n",
              "      <td>164</td>\n",
              "      <td>85</td>\n",
              "      <td>3</td>\n",
              "      <td>79.7</td>\n",
              "    </tr>\n",
              "    <tr>\n",
              "      <th>34</th>\n",
              "      <td>56</td>\n",
              "      <td>0</td>\n",
              "      <td>36</td>\n",
              "      <td>160</td>\n",
              "      <td>66</td>\n",
              "      <td>3</td>\n",
              "      <td>58.2</td>\n",
              "    </tr>\n",
              "    <tr>\n",
              "      <th>15</th>\n",
              "      <td>14</td>\n",
              "      <td>0</td>\n",
              "      <td>37</td>\n",
              "      <td>167</td>\n",
              "      <td>82</td>\n",
              "      <td>1</td>\n",
              "      <td>81.1</td>\n",
              "    </tr>\n",
              "    <tr>\n",
              "      <th>77</th>\n",
              "      <td>78</td>\n",
              "      <td>1</td>\n",
              "      <td>51</td>\n",
              "      <td>175</td>\n",
              "      <td>88</td>\n",
              "      <td>3</td>\n",
              "      <td>81.9</td>\n",
              "    </tr>\n",
              "    <tr>\n",
              "      <th>66</th>\n",
              "      <td>67</td>\n",
              "      <td>1</td>\n",
              "      <td>36</td>\n",
              "      <td>155</td>\n",
              "      <td>71</td>\n",
              "      <td>3</td>\n",
              "      <td>68.5</td>\n",
              "    </tr>\n",
              "    <tr>\n",
              "      <th>63</th>\n",
              "      <td>49</td>\n",
              "      <td>1</td>\n",
              "      <td>37</td>\n",
              "      <td>198</td>\n",
              "      <td>79</td>\n",
              "      <td>2</td>\n",
              "      <td>71.1</td>\n",
              "    </tr>\n",
              "    <tr>\n",
              "      <th>28</th>\n",
              "      <td>39</td>\n",
              "      <td>0</td>\n",
              "      <td>30</td>\n",
              "      <td>161</td>\n",
              "      <td>76</td>\n",
              "      <td>2</td>\n",
              "      <td>72.7</td>\n",
              "    </tr>\n",
              "    <tr>\n",
              "      <th>73</th>\n",
              "      <td>74</td>\n",
              "      <td>1</td>\n",
              "      <td>35</td>\n",
              "      <td>183</td>\n",
              "      <td>83</td>\n",
              "      <td>3</td>\n",
              "      <td>80.2</td>\n",
              "    </tr>\n",
              "  </tbody>\n",
              "</table>\n",
              "</div>"
            ],
            "text/plain": [
              "    Person gender  Age  Height  pre.weight  Diet  weight6weeks\n",
              "57      43      1   54     196          75     2          69.2\n",
              "33      55      0   22     169          65     3          58.2\n",
              "75      76      1   28     164          85     3          79.7\n",
              "34      56      0   36     160          66     3          58.2\n",
              "15      14      0   37     167          82     1          81.1\n",
              "77      78      1   51     175          88     3          81.9\n",
              "66      67      1   36     155          71     3          68.5\n",
              "63      49      1   37     198          79     2          71.1\n",
              "28      39      0   30     161          76     2          72.7\n",
              "73      74      1   35     183          83     3          80.2"
            ]
          },
          "metadata": {
            "tags": []
          },
          "execution_count": 2
        }
      ]
    },
    {
      "cell_type": "markdown",
      "metadata": {
        "id": "TszBOiKQe5uE"
      },
      "source": [
        "**làm sạch dữ liệu:**"
      ]
    },
    {
      "cell_type": "code",
      "metadata": {
        "colab": {
          "base_uri": "https://localhost:8080/",
          "height": 357
        },
        "id": "0jRDAJFBe13u",
        "outputId": "4cfbc549-c5c3-4d6a-a121-c9621e24ecdb"
      },
      "source": [
        "df.replace(\" \", np.nan, inplace=True) #chuyển đổi các ô trống sang NaN\n",
        "df.dropna(inplace=True) #Xóa các hàng có giá trị NaN\n",
        "df.sample(10)"
      ],
      "execution_count": 3,
      "outputs": [
        {
          "output_type": "execute_result",
          "data": {
            "text/html": [
              "<div>\n",
              "<style scoped>\n",
              "    .dataframe tbody tr th:only-of-type {\n",
              "        vertical-align: middle;\n",
              "    }\n",
              "\n",
              "    .dataframe tbody tr th {\n",
              "        vertical-align: top;\n",
              "    }\n",
              "\n",
              "    .dataframe thead th {\n",
              "        text-align: right;\n",
              "    }\n",
              "</style>\n",
              "<table border=\"1\" class=\"dataframe\">\n",
              "  <thead>\n",
              "    <tr style=\"text-align: right;\">\n",
              "      <th></th>\n",
              "      <th>Person</th>\n",
              "      <th>gender</th>\n",
              "      <th>Age</th>\n",
              "      <th>Height</th>\n",
              "      <th>pre.weight</th>\n",
              "      <th>Diet</th>\n",
              "      <th>weight6weeks</th>\n",
              "    </tr>\n",
              "  </thead>\n",
              "  <tbody>\n",
              "    <tr>\n",
              "      <th>36</th>\n",
              "      <td>58</td>\n",
              "      <td>0</td>\n",
              "      <td>35</td>\n",
              "      <td>163</td>\n",
              "      <td>67</td>\n",
              "      <td>3</td>\n",
              "      <td>60.2</td>\n",
              "    </tr>\n",
              "    <tr>\n",
              "      <th>71</th>\n",
              "      <td>72</td>\n",
              "      <td>1</td>\n",
              "      <td>26</td>\n",
              "      <td>179</td>\n",
              "      <td>78</td>\n",
              "      <td>3</td>\n",
              "      <td>69.4</td>\n",
              "    </tr>\n",
              "    <tr>\n",
              "      <th>70</th>\n",
              "      <td>71</td>\n",
              "      <td>1</td>\n",
              "      <td>31</td>\n",
              "      <td>177</td>\n",
              "      <td>78</td>\n",
              "      <td>3</td>\n",
              "      <td>75.2</td>\n",
              "    </tr>\n",
              "    <tr>\n",
              "      <th>27</th>\n",
              "      <td>38</td>\n",
              "      <td>0</td>\n",
              "      <td>37</td>\n",
              "      <td>167</td>\n",
              "      <td>68</td>\n",
              "      <td>2</td>\n",
              "      <td>63.3</td>\n",
              "    </tr>\n",
              "    <tr>\n",
              "      <th>35</th>\n",
              "      <td>57</td>\n",
              "      <td>0</td>\n",
              "      <td>20</td>\n",
              "      <td>169</td>\n",
              "      <td>67</td>\n",
              "      <td>3</td>\n",
              "      <td>61.6</td>\n",
              "    </tr>\n",
              "    <tr>\n",
              "      <th>61</th>\n",
              "      <td>47</td>\n",
              "      <td>1</td>\n",
              "      <td>44</td>\n",
              "      <td>163</td>\n",
              "      <td>79</td>\n",
              "      <td>2</td>\n",
              "      <td>73.6</td>\n",
              "    </tr>\n",
              "    <tr>\n",
              "      <th>47</th>\n",
              "      <td>17</td>\n",
              "      <td>1</td>\n",
              "      <td>40</td>\n",
              "      <td>173</td>\n",
              "      <td>74</td>\n",
              "      <td>1</td>\n",
              "      <td>69.5</td>\n",
              "    </tr>\n",
              "    <tr>\n",
              "      <th>21</th>\n",
              "      <td>32</td>\n",
              "      <td>0</td>\n",
              "      <td>51</td>\n",
              "      <td>174</td>\n",
              "      <td>63</td>\n",
              "      <td>2</td>\n",
              "      <td>62.4</td>\n",
              "    </tr>\n",
              "    <tr>\n",
              "      <th>64</th>\n",
              "      <td>50</td>\n",
              "      <td>1</td>\n",
              "      <td>39</td>\n",
              "      <td>180</td>\n",
              "      <td>80</td>\n",
              "      <td>2</td>\n",
              "      <td>81.4</td>\n",
              "    </tr>\n",
              "    <tr>\n",
              "      <th>13</th>\n",
              "      <td>12</td>\n",
              "      <td>0</td>\n",
              "      <td>48</td>\n",
              "      <td>156</td>\n",
              "      <td>72</td>\n",
              "      <td>1</td>\n",
              "      <td>69.0</td>\n",
              "    </tr>\n",
              "  </tbody>\n",
              "</table>\n",
              "</div>"
            ],
            "text/plain": [
              "    Person gender  Age  Height  pre.weight  Diet  weight6weeks\n",
              "36      58      0   35     163          67     3          60.2\n",
              "71      72      1   26     179          78     3          69.4\n",
              "70      71      1   31     177          78     3          75.2\n",
              "27      38      0   37     167          68     2          63.3\n",
              "35      57      0   20     169          67     3          61.6\n",
              "61      47      1   44     163          79     2          73.6\n",
              "47      17      1   40     173          74     1          69.5\n",
              "21      32      0   51     174          63     2          62.4\n",
              "64      50      1   39     180          80     2          81.4\n",
              "13      12      0   48     156          72     1          69.0"
            ]
          },
          "metadata": {
            "tags": []
          },
          "execution_count": 3
        }
      ]
    },
    {
      "cell_type": "markdown",
      "metadata": {
        "id": "PBnNtd0I3MlE"
      },
      "source": [
        "<hr>"
      ]
    },
    {
      "cell_type": "markdown",
      "metadata": {
        "id": "IxciemcIlrGS"
      },
      "source": [
        "##**Các hàm phân tích ANOVA**"
      ]
    },
    {
      "cell_type": "markdown",
      "metadata": {
        "id": "AsTKdKcPl0jm"
      },
      "source": [
        "###Kiểm tra phân phối chuẩn:\n",
        "**Phát biểu giả thiết:**\n",
        "- H0: mẫu tuân theo phân phối chuẩn\n",
        "- H1: Mẫu không tuân theo phân phối chuẩn"
      ]
    },
    {
      "cell_type": "code",
      "metadata": {
        "id": "ss1N6KaxlgcL"
      },
      "source": [
        "def shapiro(data): # kiểm tra phân phối chẩn hay không\n",
        "    series = []\n",
        "    for i in data.columns:\n",
        "        series.append(data[i].dropna())\n",
        "    for j in series:\n",
        "        sts, p = stats.shapiro(j)\n",
        "        if p > 0.05:\n",
        "            print(f'không có bằng chứng để bác bỏ giả thiết H0: mẫu {j.name} tuân theo phân phối chuẩn')\n",
        "        else:\n",
        "            print(f'có bằng chứng để bác bỏ giả thiết H0, điều này ngụ ý chấp nhận giả thiết H1: mẫu {j.name} không tuân theo phân phối chuẩn')\n",
        "    print()"
      ],
      "execution_count": 4,
      "outputs": []
    },
    {
      "cell_type": "markdown",
      "metadata": {
        "id": "vwAATGjdnfxH"
      },
      "source": [
        "**đánh giá qua biểu đồ:**"
      ]
    },
    {
      "cell_type": "code",
      "metadata": {
        "id": "9j-y-gu4nmT9"
      },
      "source": [
        "def hist(data):\n",
        "  series = []\n",
        "  id = 0\n",
        "  for i in data.columns:\n",
        "        series.append(data[i].dropna())\n",
        "  fig, ax = plt.subplots(ncols=3, figsize=(20,4))\n",
        "  for j in series:\n",
        "        mean = np.mean(data[j.name])\n",
        "        # ddof=1 :: hiệu chỉnh\n",
        "        std = np.std(data[j.name], ddof=1)\n",
        "        domain = np.linspace(np.min(data[j.name]), np.max(data[j.name]))\n",
        "        ax[id].plot(domain, stats.norm.pdf(domain, mean, std))\n",
        "        #density=True :: chuẩn hóa dữ liệu về normal\n",
        "        ax[id].hist(data[j.name], edgecolor='green', density=True)\n",
        "        ax[id].title.set_text(j.name)\n",
        "        id = id + 1\n",
        "  fig.show()\n",
        "def qq_plot(data):\n",
        "  series = []\n",
        "  id = 0\n",
        "  for i in data.columns:\n",
        "        series.append(data[i].dropna())\n",
        "  fig, ax = plt.subplots(ncols=3, figsize=(20,4))\n",
        "  for j in series:\n",
        "    sm.qqplot(data[j.name], fit=True, line ='45', ax= ax[id])\n",
        "    ax[id].title.set_text(j.name)\n",
        "    id = id + 1\n",
        "  fig.show()"
      ],
      "execution_count": 5,
      "outputs": []
    },
    {
      "cell_type": "markdown",
      "metadata": {
        "id": "mLqaUPGD3KQj"
      },
      "source": [
        "<hr>"
      ]
    },
    {
      "cell_type": "markdown",
      "metadata": {
        "id": "_gIuFgQ9mgMD"
      },
      "source": [
        "###kiểm tra tính đồng nhất phương sai:\n",
        "**Phát biểu giả thiết:**\n",
        "- H0: Phương sai đồng nhất\n",
        "- H1: phương sai không đồng nhất"
      ]
    },
    {
      "cell_type": "code",
      "metadata": {
        "id": "zrNvfbDpmj5c"
      },
      "source": [
        "def levene(data): # khiểm tra tính đồng nhất phương sai\n",
        "    series = []\n",
        "    for i in data.columns:\n",
        "        series.append(data[i].dropna())\n",
        "    sts, p = stats.levene(*series)\n",
        "    if p > 0.05:\n",
        "        print(f'không có bằng chứng để bác bỏ giả thiết H0: Phương sai đồng nhất\\n')\n",
        "    else:\n",
        "        print(f'có bằng chứng để bác bỏ giả thiết H0, điều này ngụ ý chấp nhận giả thiết H1: phương sai không đồng nhất\\n')\n"
      ],
      "execution_count": 6,
      "outputs": []
    },
    {
      "cell_type": "markdown",
      "metadata": {
        "id": "EbHby4XN3Hvx"
      },
      "source": [
        "<hr>"
      ]
    },
    {
      "cell_type": "markdown",
      "metadata": {
        "id": "NVJJ2mAKmkVU"
      },
      "source": [
        "###Kiểm tra tính đồng nhất về giá trị trung bình:\n",
        "**Phát biểu giả thiết:**\n",
        "- H0: các giá trị trung bình bằng nhau\n",
        "- H1: Có tối thiểu một cặp giá trị trung bình có giá trị khác nhau"
      ]
    },
    {
      "cell_type": "code",
      "metadata": {
        "id": "8vBPsa_smlMZ"
      },
      "source": [
        "def anova(data):\n",
        "    series = []\n",
        "    for i in data.columns:\n",
        "        series.append(data[i].dropna())\n",
        "    sts, p = stats.f_oneway(*series)\n",
        "    if p > 0.05:\n",
        "        print('không có bằng chứng để bác bỏ giả thiết H0: các giá trị trung bình bằng nhau')\n",
        "    else:\n",
        "        print('có bằng chứng để bác bỏ giả thiết H0, điều này ngụ ý chấp nhận giả thiết H1: Có tối thiểu một cặp giá trị trung bình có giá trị khác nhau')"
      ],
      "execution_count": 7,
      "outputs": []
    },
    {
      "cell_type": "markdown",
      "metadata": {
        "id": "NvkdS25T3Efh"
      },
      "source": [
        "<hr>"
      ]
    },
    {
      "cell_type": "markdown",
      "metadata": {
        "id": "g6ALfGV8nUl1"
      },
      "source": [
        "##Tiến hành phân tích:"
      ]
    },
    {
      "cell_type": "markdown",
      "metadata": {
        "id": "WOPdMuUO_Ehc"
      },
      "source": [
        "###**Ignore diet and test to see if weight has been lost** (Bỏ qua chế độ ăn kiêng và kiểm tra xem đã giảm cân chưa?)"
      ]
    },
    {
      "cell_type": "markdown",
      "metadata": {
        "id": "KjuoFFdI_n02"
      },
      "source": [
        "**phát biểu giả thiết:**\n",
        "- h0: Cân nặng trước khi kiểm tra và sau khi kiểm tra bằng nhau\n",
        "- h1: Cân nặng trước khi kiểm tra và sau khi kiểm tra khác nhau"
      ]
    },
    {
      "cell_type": "code",
      "metadata": {
        "colab": {
          "base_uri": "https://localhost:8080/"
        },
        "id": "en7-EWgC_meF",
        "outputId": "1223d09f-11c1-44f0-a8c4-927e82557e95"
      },
      "source": [
        "stat, p = stats.ttest_rel(df[\"pre.weight\"], df[\"weight6weeks\"])\n",
        "print('Stat =', stat, 'P_value =', p)\n",
        "if p > 0.05:\n",
        "    print(\"không có bằng chứng để bác bỏ giả thiết H0: Cân nặng trước khi kiểm tra và sau khi kiểm tra bằng nhau\")\n",
        "else:\n",
        "    print(\"có bằng chứng để bác bỏ giả thiết H0, điều này ngụ ý chấp nhận giả thiết H1: Cân nặng trước khi kiểm tra và sau khi kiểm tra khác nhau\")"
      ],
      "execution_count": 8,
      "outputs": [
        {
          "output_type": "stream",
          "text": [
            "Stat = 13.728486740903172 P_value = 3.7220652146643845e-22\n",
            "có bằng chứng để bác bỏ giả thiết H0, điều này ngụ ý chấp nhận giả thiết H1: Cân nặng trước khi kiểm tra và sau khi kiểm tra khác nhau\n"
          ],
          "name": "stdout"
        }
      ]
    },
    {
      "cell_type": "code",
      "metadata": {
        "colab": {
          "base_uri": "https://localhost:8080/",
          "height": 303
        },
        "id": "LpdBUrYrw2sH",
        "outputId": "af5dd414-c9ad-4e7b-a77e-37a8bd456da8"
      },
      "source": [
        "# Biểu đồ cân nặng trước và sau khi giảm cân\n",
        "df[['pre.weight', 'weight6weeks']].plot(color= ['#00ab41','#ff3737'])\n",
        "plt.title('Weight before and after diet', fontsize=20)"
      ],
      "execution_count": 9,
      "outputs": [
        {
          "output_type": "execute_result",
          "data": {
            "text/plain": [
              "Text(0.5, 1.0, 'Weight before and after diet')"
            ]
          },
          "metadata": {
            "tags": []
          },
          "execution_count": 9
        },
        {
          "output_type": "display_data",
          "data": {
            "image/png": "[encoded data removed]",
            "text/plain": [
              "<Figure size 432x288 with 1 Axes>"
            ]
          },
          "metadata": {
            "tags": [],
            "needs_background": "light"
          }
        }
      ]
    },
    {
      "cell_type": "markdown",
      "metadata": {
        "id": "BdQQrFly3Cj9"
      },
      "source": [
        "<hr>"
      ]
    },
    {
      "cell_type": "markdown",
      "metadata": {
        "id": "LW9-vI0ACYZy"
      },
      "source": [
        "###**Remove weight lost and get students to calculate it using before/after weights**"
      ]
    },
    {
      "cell_type": "code",
      "metadata": {
        "colab": {
          "base_uri": "https://localhost:8080/",
          "height": 357
        },
        "id": "Y7gny0gNCfwB",
        "outputId": "7c1c1ffb-c157-4979-9523-dfaaa4db7542"
      },
      "source": [
        "weight_lost = df[\"pre.weight\"] - df[\"weight6weeks\"] \n",
        "df['weightlost'] = weight_lost.values\n",
        "df.sample(10)"
      ],
      "execution_count": 10,
      "outputs": [
        {
          "output_type": "execute_result",
          "data": {
            "text/html": [
              "<div>\n",
              "<style scoped>\n",
              "    .dataframe tbody tr th:only-of-type {\n",
              "        vertical-align: middle;\n",
              "    }\n",
              "\n",
              "    .dataframe tbody tr th {\n",
              "        vertical-align: top;\n",
              "    }\n",
              "\n",
              "    .dataframe thead th {\n",
              "        text-align: right;\n",
              "    }\n",
              "</style>\n",
              "<table border=\"1\" class=\"dataframe\">\n",
              "  <thead>\n",
              "    <tr style=\"text-align: right;\">\n",
              "      <th></th>\n",
              "      <th>Person</th>\n",
              "      <th>gender</th>\n",
              "      <th>Age</th>\n",
              "      <th>Height</th>\n",
              "      <th>pre.weight</th>\n",
              "      <th>Diet</th>\n",
              "      <th>weight6weeks</th>\n",
              "      <th>weightlost</th>\n",
              "    </tr>\n",
              "  </thead>\n",
              "  <tbody>\n",
              "    <tr>\n",
              "      <th>8</th>\n",
              "      <td>7</td>\n",
              "      <td>0</td>\n",
              "      <td>37</td>\n",
              "      <td>174</td>\n",
              "      <td>67</td>\n",
              "      <td>1</td>\n",
              "      <td>65.0</td>\n",
              "      <td>2.0</td>\n",
              "    </tr>\n",
              "    <tr>\n",
              "      <th>20</th>\n",
              "      <td>31</td>\n",
              "      <td>0</td>\n",
              "      <td>20</td>\n",
              "      <td>169</td>\n",
              "      <td>62</td>\n",
              "      <td>2</td>\n",
              "      <td>55.0</td>\n",
              "      <td>7.0</td>\n",
              "    </tr>\n",
              "    <tr>\n",
              "      <th>30</th>\n",
              "      <td>52</td>\n",
              "      <td>0</td>\n",
              "      <td>51</td>\n",
              "      <td>165</td>\n",
              "      <td>60</td>\n",
              "      <td>3</td>\n",
              "      <td>53.0</td>\n",
              "      <td>7.0</td>\n",
              "    </tr>\n",
              "    <tr>\n",
              "      <th>6</th>\n",
              "      <td>5</td>\n",
              "      <td>0</td>\n",
              "      <td>50</td>\n",
              "      <td>170</td>\n",
              "      <td>65</td>\n",
              "      <td>1</td>\n",
              "      <td>62.2</td>\n",
              "      <td>2.8</td>\n",
              "    </tr>\n",
              "    <tr>\n",
              "      <th>53</th>\n",
              "      <td>23</td>\n",
              "      <td>1</td>\n",
              "      <td>39</td>\n",
              "      <td>166</td>\n",
              "      <td>87</td>\n",
              "      <td>1</td>\n",
              "      <td>81.9</td>\n",
              "      <td>5.1</td>\n",
              "    </tr>\n",
              "    <tr>\n",
              "      <th>60</th>\n",
              "      <td>46</td>\n",
              "      <td>1</td>\n",
              "      <td>37</td>\n",
              "      <td>194</td>\n",
              "      <td>78</td>\n",
              "      <td>2</td>\n",
              "      <td>76.3</td>\n",
              "      <td>1.7</td>\n",
              "    </tr>\n",
              "    <tr>\n",
              "      <th>11</th>\n",
              "      <td>10</td>\n",
              "      <td>0</td>\n",
              "      <td>45</td>\n",
              "      <td>165</td>\n",
              "      <td>70</td>\n",
              "      <td>1</td>\n",
              "      <td>66.9</td>\n",
              "      <td>3.1</td>\n",
              "    </tr>\n",
              "    <tr>\n",
              "      <th>72</th>\n",
              "      <td>73</td>\n",
              "      <td>1</td>\n",
              "      <td>40</td>\n",
              "      <td>179</td>\n",
              "      <td>79</td>\n",
              "      <td>3</td>\n",
              "      <td>74.5</td>\n",
              "      <td>4.5</td>\n",
              "    </tr>\n",
              "    <tr>\n",
              "      <th>65</th>\n",
              "      <td>51</td>\n",
              "      <td>1</td>\n",
              "      <td>31</td>\n",
              "      <td>182</td>\n",
              "      <td>80</td>\n",
              "      <td>2</td>\n",
              "      <td>75.7</td>\n",
              "      <td>4.3</td>\n",
              "    </tr>\n",
              "    <tr>\n",
              "      <th>52</th>\n",
              "      <td>22</td>\n",
              "      <td>1</td>\n",
              "      <td>42</td>\n",
              "      <td>166</td>\n",
              "      <td>85</td>\n",
              "      <td>1</td>\n",
              "      <td>81.5</td>\n",
              "      <td>3.5</td>\n",
              "    </tr>\n",
              "  </tbody>\n",
              "</table>\n",
              "</div>"
            ],
            "text/plain": [
              "    Person gender  Age  Height  pre.weight  Diet  weight6weeks  weightlost\n",
              "8        7      0   37     174          67     1          65.0         2.0\n",
              "20      31      0   20     169          62     2          55.0         7.0\n",
              "30      52      0   51     165          60     3          53.0         7.0\n",
              "6        5      0   50     170          65     1          62.2         2.8\n",
              "53      23      1   39     166          87     1          81.9         5.1\n",
              "60      46      1   37     194          78     2          76.3         1.7\n",
              "11      10      0   45     165          70     1          66.9         3.1\n",
              "72      73      1   40     179          79     3          74.5         4.5\n",
              "65      51      1   31     182          80     2          75.7         4.3\n",
              "52      22      1   42     166          85     1          81.5         3.5"
            ]
          },
          "metadata": {
            "tags": []
          },
          "execution_count": 10
        }
      ]
    },
    {
      "cell_type": "markdown",
      "metadata": {
        "id": "o5pR2-xp3AQI"
      },
      "source": [
        "<hr>"
      ]
    },
    {
      "cell_type": "markdown",
      "metadata": {
        "id": "rmMuBByCFvEF"
      },
      "source": [
        "###**Summary statistics by diet**"
      ]
    },
    {
      "cell_type": "code",
      "metadata": {
        "colab": {
          "base_uri": "https://localhost:8080/",
          "height": 357
        },
        "id": "jhiLV2q3IZWt",
        "outputId": "6f1b3653-625b-46b4-cb1b-cc2b5b272507"
      },
      "source": [
        "# phân nhóm giá trị weightlost theo diet\n",
        "weightlost_1 = df[(df['Diet'] == 1)][\"weightlost\"]\n",
        "weightlost_2 = df[(df['Diet'] == 2)][\"weightlost\"]\n",
        "weightlost_3 = df[(df['Diet'] == 3)][\"weightlost\"]\n",
        "weight_lost = list(zip(weightlost_1, weightlost_2, weightlost_3))\n",
        "df_diet =  pd.DataFrame(weight_lost, columns = (\"Diet 1\", \"Diet 2\", \"Diet 3\"))\n",
        "df_diet.sample(10)"
      ],
      "execution_count": 11,
      "outputs": [
        {
          "output_type": "execute_result",
          "data": {
            "text/html": [
              "<div>\n",
              "<style scoped>\n",
              "    .dataframe tbody tr th:only-of-type {\n",
              "        vertical-align: middle;\n",
              "    }\n",
              "\n",
              "    .dataframe tbody tr th {\n",
              "        vertical-align: top;\n",
              "    }\n",
              "\n",
              "    .dataframe thead th {\n",
              "        text-align: right;\n",
              "    }\n",
              "</style>\n",
              "<table border=\"1\" class=\"dataframe\">\n",
              "  <thead>\n",
              "    <tr style=\"text-align: right;\">\n",
              "      <th></th>\n",
              "      <th>Diet 1</th>\n",
              "      <th>Diet 2</th>\n",
              "      <th>Diet 3</th>\n",
              "    </tr>\n",
              "  </thead>\n",
              "  <tbody>\n",
              "    <tr>\n",
              "      <th>17</th>\n",
              "      <td>4.1</td>\n",
              "      <td>3.5</td>\n",
              "      <td>3.5</td>\n",
              "    </tr>\n",
              "    <tr>\n",
              "      <th>20</th>\n",
              "      <td>3.9</td>\n",
              "      <td>5.4</td>\n",
              "      <td>8.6</td>\n",
              "    </tr>\n",
              "    <tr>\n",
              "      <th>2</th>\n",
              "      <td>0.7</td>\n",
              "      <td>1.7</td>\n",
              "      <td>3.4</td>\n",
              "    </tr>\n",
              "    <tr>\n",
              "      <th>15</th>\n",
              "      <td>1.1</td>\n",
              "      <td>2.4</td>\n",
              "      <td>2.5</td>\n",
              "    </tr>\n",
              "    <tr>\n",
              "      <th>11</th>\n",
              "      <td>3.0</td>\n",
              "      <td>4.7</td>\n",
              "      <td>7.6</td>\n",
              "    </tr>\n",
              "    <tr>\n",
              "      <th>6</th>\n",
              "      <td>2.0</td>\n",
              "      <td>2.7</td>\n",
              "      <td>6.8</td>\n",
              "    </tr>\n",
              "    <tr>\n",
              "      <th>5</th>\n",
              "      <td>2.0</td>\n",
              "      <td>0.6</td>\n",
              "      <td>5.4</td>\n",
              "    </tr>\n",
              "    <tr>\n",
              "      <th>10</th>\n",
              "      <td>1.5</td>\n",
              "      <td>4.2</td>\n",
              "      <td>0.9</td>\n",
              "    </tr>\n",
              "    <tr>\n",
              "      <th>1</th>\n",
              "      <td>6.0</td>\n",
              "      <td>2.0</td>\n",
              "      <td>5.6</td>\n",
              "    </tr>\n",
              "    <tr>\n",
              "      <th>13</th>\n",
              "      <td>0.9</td>\n",
              "      <td>-0.5</td>\n",
              "      <td>6.3</td>\n",
              "    </tr>\n",
              "  </tbody>\n",
              "</table>\n",
              "</div>"
            ],
            "text/plain": [
              "    Diet 1  Diet 2  Diet 3\n",
              "17     4.1     3.5     3.5\n",
              "20     3.9     5.4     8.6\n",
              "2      0.7     1.7     3.4\n",
              "15     1.1     2.4     2.5\n",
              "11     3.0     4.7     7.6\n",
              "6      2.0     2.7     6.8\n",
              "5      2.0     0.6     5.4\n",
              "10     1.5     4.2     0.9\n",
              "1      6.0     2.0     5.6\n",
              "13     0.9    -0.5     6.3"
            ]
          },
          "metadata": {
            "tags": []
          },
          "execution_count": 11
        }
      ]
    },
    {
      "cell_type": "code",
      "metadata": {
        "colab": {
          "base_uri": "https://localhost:8080/",
          "height": 693
        },
        "id": "foOIPJnlF0om",
        "outputId": "3e727e6c-b379-4f63-bef9-5d19eaa4d39d"
      },
      "source": [
        "#Thống kê tóm tắt theo chế độ ăn uống\n",
        "su_stat = df_diet.agg(\n",
        "      {\n",
        "          \"Diet 1\": [\"min\", \"max\", \"mean\", \"median\", \"std\"],\n",
        "          \"Diet 2\": [\"min\", \"max\", \"mean\", \"median\", \"std\"],\n",
        "          \"Diet 3\": [\"min\", \"max\", \"mean\", \"median\", \"std\"]\n",
        "      }\n",
        ").T\n",
        "print(su_stat)\n",
        "print(\"\\n\")\n",
        "def box_plot(data): #vẽ đồ thị boxplot\n",
        "  fig, ax = plt.subplots(figsize=(10,10))\n",
        "  sns.boxplot(data= data,width=0.2, fliersize=12, flierprops = dict(marker=\".\",markerfacecolor='r'))\n",
        "box_plot(df_diet)"
      ],
      "execution_count": 12,
      "outputs": [
        {
          "output_type": "stream",
          "text": [
            "        min  max      mean  median       std\n",
            "Diet 1 -0.6  9.0  3.300000    3.05  2.240148\n",
            "Diet 2 -2.1  7.9  3.225000    3.40  2.507944\n",
            "Diet 3  0.5  8.6  4.933333    5.20  2.384309\n",
            "\n",
            "\n"
          ],
          "name": "stdout"
        },
        {
          "output_type": "display_data",
          "data": {
            "image/png": "[encoded data removed]",
            "text/plain": [
              "<Figure size 720x720 with 1 Axes>"
            ]
          },
          "metadata": {
            "tags": [],
            "needs_background": "light"
          }
        }
      ]
    },
    {
      "cell_type": "markdown",
      "metadata": {
        "id": "p_cK66E526FE"
      },
      "source": [
        "<hr>"
      ]
    },
    {
      "cell_type": "markdown",
      "metadata": {
        "id": "Uo9byBv8Qili"
      },
      "source": [
        "###**kiểm định ANOVA**"
      ]
    },
    {
      "cell_type": "markdown",
      "metadata": {
        "id": "aubhlauS1d9T"
      },
      "source": [
        "**kiểm tra phân phối chuẩn:**"
      ]
    },
    {
      "cell_type": "code",
      "metadata": {
        "colab": {
          "base_uri": "https://localhost:8080/"
        },
        "id": "nAnI_YG_c_7u",
        "outputId": "db9b32bd-6b26-4cee-fa80-019c82c3d05a"
      },
      "source": [
        "shapiro(df_diet) #kiểm tra phân phối chuẩn bằng shapiro"
      ],
      "execution_count": 13,
      "outputs": [
        {
          "output_type": "stream",
          "text": [
            "không có bằng chứng để bác bỏ giả thiết H0: mẫu Diet 1 tuân theo phân phối chuẩn\n",
            "không có bằng chứng để bác bỏ giả thiết H0: mẫu Diet 2 tuân theo phân phối chuẩn\n",
            "không có bằng chứng để bác bỏ giả thiết H0: mẫu Diet 3 tuân theo phân phối chuẩn\n",
            "\n"
          ],
          "name": "stdout"
        }
      ]
    },
    {
      "cell_type": "code",
      "metadata": {
        "colab": {
          "base_uri": "https://localhost:8080/",
          "height": 559
        },
        "id": "TsYrHcJR1lsy",
        "outputId": "283d0c7e-822f-4a82-cf27-d3ceccb0866b"
      },
      "source": [
        "hist(df_diet) #kiểm tra phân phối chuẩn bằng đồ thị histogram\n",
        "qq_plot(df_diet) #kiểm tra phân phối chuẩn bằng qq plot"
      ],
      "execution_count": 14,
      "outputs": [
        {
          "output_type": "display_data",
          "data": {
            "image/png": "[encoded data removed]",
            "text/plain": [
              "<Figure size 1440x288 with 3 Axes>"
            ]
          },
          "metadata": {
            "tags": [],
            "needs_background": "light"
          }
        },
        {
          "output_type": "display_data",
          "data": {
            "image/png": "[encoded data removed]",
            "text/plain": [
              "<Figure size 1440x288 with 3 Axes>"
            ]
          },
          "metadata": {
            "tags": [],
            "needs_background": "light"
          }
        }
      ]
    },
    {
      "cell_type": "markdown",
      "metadata": {
        "id": "m3fX241X11vh"
      },
      "source": [
        "**Kiểm tra tính đồng nhất về phương sai:**"
      ]
    },
    {
      "cell_type": "code",
      "metadata": {
        "colab": {
          "base_uri": "https://localhost:8080/"
        },
        "id": "vgh9OEFg18Wk",
        "outputId": "14056744-d217-4849-9112-69e4b0bb8a29"
      },
      "source": [
        "levene(df_diet)  #kiểm tra tính đồng nhất về phương sai"
      ],
      "execution_count": 15,
      "outputs": [
        {
          "output_type": "stream",
          "text": [
            "không có bằng chứng để bác bỏ giả thiết H0: Phương sai đồng nhất\n",
            "\n"
          ],
          "name": "stdout"
        }
      ]
    },
    {
      "cell_type": "markdown",
      "metadata": {
        "id": "UdNQQVY91_W9"
      },
      "source": [
        "**Kiểm tra tính đồng nhất về giá trị trung bình:**"
      ]
    },
    {
      "cell_type": "code",
      "metadata": {
        "colab": {
          "base_uri": "https://localhost:8080/"
        },
        "id": "MFyqLOGM2KrC",
        "outputId": "738acdc0-391c-4164-a637-10ac0f726a39"
      },
      "source": [
        "anova(df_diet) #phân tích anova"
      ],
      "execution_count": 16,
      "outputs": [
        {
          "output_type": "stream",
          "text": [
            "có bằng chứng để bác bỏ giả thiết H0, điều này ngụ ý chấp nhận giả thiết H1: Có tối thiểu một cặp giá trị trung bình có giá trị khác nhau\n"
          ],
          "name": "stdout"
        }
      ]
    },
    {
      "cell_type": "markdown",
      "metadata": {
        "id": "eZqDCVQD2ayv"
      },
      "source": [
        "<br>\n",
        "<br>"
      ]
    },
    {
      "cell_type": "code",
      "metadata": {
        "colab": {
          "base_uri": "https://localhost:8080/",
          "height": 80
        },
        "id": "8D-MB4ybekwz",
        "outputId": "df5a8983-732d-4d4e-ec67-aed30c6c10d4"
      },
      "source": [
        "p = {}\n",
        "p['mean1'] = np.mean(df_diet[\"Diet 1\"])\n",
        "p['mean2'] = np.mean(df_diet[\"Diet 2\"])\n",
        "p['mean3'] = np.mean(df_diet[\"Diet 3\"])\n",
        "dt = pd.DataFrame(p, index=[''])\n",
        "dt"
      ],
      "execution_count": 17,
      "outputs": [
        {
          "output_type": "execute_result",
          "data": {
            "text/html": [
              "<div>\n",
              "<style scoped>\n",
              "    .dataframe tbody tr th:only-of-type {\n",
              "        vertical-align: middle;\n",
              "    }\n",
              "\n",
              "    .dataframe tbody tr th {\n",
              "        vertical-align: top;\n",
              "    }\n",
              "\n",
              "    .dataframe thead th {\n",
              "        text-align: right;\n",
              "    }\n",
              "</style>\n",
              "<table border=\"1\" class=\"dataframe\">\n",
              "  <thead>\n",
              "    <tr style=\"text-align: right;\">\n",
              "      <th></th>\n",
              "      <th>mean1</th>\n",
              "      <th>mean2</th>\n",
              "      <th>mean3</th>\n",
              "    </tr>\n",
              "  </thead>\n",
              "  <tbody>\n",
              "    <tr>\n",
              "      <th></th>\n",
              "      <td>3.3</td>\n",
              "      <td>3.225</td>\n",
              "      <td>4.933333</td>\n",
              "    </tr>\n",
              "  </tbody>\n",
              "</table>\n",
              "</div>"
            ],
            "text/plain": [
              "  mean1  mean2     mean3\n",
              "    3.3  3.225  4.933333"
            ]
          },
          "metadata": {
            "tags": []
          },
          "execution_count": 17
        }
      ]
    },
    {
      "cell_type": "markdown",
      "metadata": {
        "id": "sktwXXRGeNj4"
      },
      "source": [
        "**=> kết luận:** chế độ ăn ảnh hưởng đến việc giảm cân\n",
        "- chế độ ăn hiệu quả nhất là nhóm diet 3"
      ]
    },
    {
      "cell_type": "markdown",
      "metadata": {
        "id": "iA3JUxXB2wGj"
      },
      "source": [
        "<hr>"
      ]
    },
    {
      "cell_type": "markdown",
      "metadata": {
        "id": "MufjWK2TqpjL"
      },
      "source": [
        "###**Giới tính**"
      ]
    },
    {
      "cell_type": "markdown",
      "metadata": {
        "id": "bvpuHfUjq5Rg"
      },
      "source": [
        "**phát biểu giả thiết:**\n",
        "- h0: Chỉ số giảm cân của nam và nữ bằng nhau\n",
        "- h1: Chỉ số giảm cân của nam và nữ khác nhau"
      ]
    },
    {
      "cell_type": "code",
      "metadata": {
        "colab": {
          "base_uri": "https://localhost:8080/"
        },
        "id": "MRcPWJvEqp8Y",
        "outputId": "4ad37a10-6f89-4e88-9c9c-23e9a763b2f0"
      },
      "source": [
        "stat, p = stats.ttest_ind(df[(df[\"gender\"] == '0')][\"weightlost\"], df[(df[\"gender\"] == '1')][\"weightlost\"])\n",
        "print('Stat =', stat, 'P_value =', p)\n",
        "if p > 0.05:\n",
        "    print(\"không có bằng chứng để bác bỏ giả thiết H0: Chỉ số giảm cân của nam và nữ bằng nhau\")\n",
        "else:\n",
        "    print(\"có bằng chứng để bác bỏ giả thiết H0, điều này ngụ ý chấp nhận giả thiết H1: Chỉ số giảm cân của nam và nữ khác nhau\")"
      ],
      "execution_count": 18,
      "outputs": [
        {
          "output_type": "stream",
          "text": [
            "Stat = -0.20925085653363862 P_value = 0.8348273886348047\n",
            "không có bằng chứng để bác bỏ giả thiết H0: Chỉ số giảm cân của nam và nữ bằng nhau\n"
          ],
          "name": "stdout"
        }
      ]
    },
    {
      "cell_type": "markdown",
      "metadata": {
        "id": "af9hQ2uFgEpU"
      },
      "source": [
        "**=> Kết luận:** Giới tính không ảnh hưởng đến việc giảm cân"
      ]
    },
    {
      "cell_type": "markdown",
      "metadata": {
        "id": "Fnybuq0U2zqf"
      },
      "source": [
        "<hr>"
      ]
    },
    {
      "cell_type": "markdown",
      "metadata": {
        "id": "k-Hxp95UiE8b"
      },
      "source": [
        "###**chiều cao**"
      ]
    },
    {
      "cell_type": "code",
      "metadata": {
        "colab": {
          "base_uri": "https://localhost:8080/",
          "height": 326
        },
        "id": "xtKuREaxiD-A",
        "outputId": "a720f274-8b5c-45dc-c719-6496d97874c6"
      },
      "source": [
        "# phân nhóm theo chiều cao\n",
        "height_1 = df[(df['Height'] < 160)][\"weightlost\"]                         #chiều cao dưới 160 cm\n",
        "height_2 = df[(df['Height'] < 170) & (df['Height'] >= 160)][\"weightlost\"] #chiều cao từ 160 đến dưới 170 cm\n",
        "height_3 = df[(df['Height'] < 180) & (df['Height'] >= 170)][\"weightlost\"] #chiều cao từ 170 đến dưới 180 cm \n",
        "height_4 = df[(df['Height'] >= 180)][\"weightlost\"]                        #chiều cao trên 180 cm\n",
        "#lấy mẫu để kiểm định anova\n",
        "height_sp1 = height_1.sample(9)\n",
        "height_sp2 = height_2.sample(9)\n",
        "height_sp3 = height_3.sample(9)\n",
        "height_sp4 = height_4.sample(9)\n",
        "#gộp các nhóm lại thành dataframe\n",
        "weight_lost = list(zip(height_sp1, height_sp2, height_sp3, height_sp4))\n",
        "df_height =  pd.DataFrame(weight_lost, columns = (\"lùn\", \"vừa\", \"cao\", \"rất cao\"))\n",
        "df_height"
      ],
      "execution_count": 19,
      "outputs": [
        {
          "output_type": "execute_result",
          "data": {
            "text/html": [
              "<div>\n",
              "<style scoped>\n",
              "    .dataframe tbody tr th:only-of-type {\n",
              "        vertical-align: middle;\n",
              "    }\n",
              "\n",
              "    .dataframe tbody tr th {\n",
              "        vertical-align: top;\n",
              "    }\n",
              "\n",
              "    .dataframe thead th {\n",
              "        text-align: right;\n",
              "    }\n",
              "</style>\n",
              "<table border=\"1\" class=\"dataframe\">\n",
              "  <thead>\n",
              "    <tr style=\"text-align: right;\">\n",
              "      <th></th>\n",
              "      <th>lùn</th>\n",
              "      <th>vừa</th>\n",
              "      <th>cao</th>\n",
              "      <th>rất cao</th>\n",
              "    </tr>\n",
              "  </thead>\n",
              "  <tbody>\n",
              "    <tr>\n",
              "      <th>0</th>\n",
              "      <td>6.3</td>\n",
              "      <td>2.4</td>\n",
              "      <td>0.6</td>\n",
              "      <td>7.9</td>\n",
              "    </tr>\n",
              "    <tr>\n",
              "      <th>1</th>\n",
              "      <td>3.4</td>\n",
              "      <td>5.4</td>\n",
              "      <td>-2.1</td>\n",
              "      <td>3.5</td>\n",
              "    </tr>\n",
              "    <tr>\n",
              "      <th>2</th>\n",
              "      <td>5.0</td>\n",
              "      <td>6.8</td>\n",
              "      <td>4.5</td>\n",
              "      <td>3.5</td>\n",
              "    </tr>\n",
              "    <tr>\n",
              "      <th>3</th>\n",
              "      <td>7.0</td>\n",
              "      <td>5.3</td>\n",
              "      <td>6.1</td>\n",
              "      <td>-1.4</td>\n",
              "    </tr>\n",
              "    <tr>\n",
              "      <th>4</th>\n",
              "      <td>3.0</td>\n",
              "      <td>5.6</td>\n",
              "      <td>0.5</td>\n",
              "      <td>6.0</td>\n",
              "    </tr>\n",
              "    <tr>\n",
              "      <th>5</th>\n",
              "      <td>3.8</td>\n",
              "      <td>2.0</td>\n",
              "      <td>0.7</td>\n",
              "      <td>5.8</td>\n",
              "    </tr>\n",
              "    <tr>\n",
              "      <th>6</th>\n",
              "      <td>7.2</td>\n",
              "      <td>4.7</td>\n",
              "      <td>6.1</td>\n",
              "      <td>4.3</td>\n",
              "    </tr>\n",
              "    <tr>\n",
              "      <th>7</th>\n",
              "      <td>1.1</td>\n",
              "      <td>3.6</td>\n",
              "      <td>4.5</td>\n",
              "      <td>2.0</td>\n",
              "    </tr>\n",
              "    <tr>\n",
              "      <th>8</th>\n",
              "      <td>2.5</td>\n",
              "      <td>4.2</td>\n",
              "      <td>0.9</td>\n",
              "      <td>2.8</td>\n",
              "    </tr>\n",
              "  </tbody>\n",
              "</table>\n",
              "</div>"
            ],
            "text/plain": [
              "   lùn  vừa  cao  rất cao\n",
              "0  6.3  2.4  0.6      7.9\n",
              "1  3.4  5.4 -2.1      3.5\n",
              "2  5.0  6.8  4.5      3.5\n",
              "3  7.0  5.3  6.1     -1.4\n",
              "4  3.0  5.6  0.5      6.0\n",
              "5  3.8  2.0  0.7      5.8\n",
              "6  7.2  4.7  6.1      4.3\n",
              "7  1.1  3.6  4.5      2.0\n",
              "8  2.5  4.2  0.9      2.8"
            ]
          },
          "metadata": {
            "tags": []
          },
          "execution_count": 19
        }
      ]
    },
    {
      "cell_type": "code",
      "metadata": {
        "colab": {
          "base_uri": "https://localhost:8080/"
        },
        "id": "SwXql_BrmrEY",
        "outputId": "a2677302-2dcb-48f6-fca8-d445bd1cea7c"
      },
      "source": [
        "shapiro(df_height)\n",
        "levene(df_height)\n",
        "anova(df_height)"
      ],
      "execution_count": 20,
      "outputs": [
        {
          "output_type": "stream",
          "text": [
            "không có bằng chứng để bác bỏ giả thiết H0: mẫu lùn tuân theo phân phối chuẩn\n",
            "không có bằng chứng để bác bỏ giả thiết H0: mẫu vừa tuân theo phân phối chuẩn\n",
            "không có bằng chứng để bác bỏ giả thiết H0: mẫu cao tuân theo phân phối chuẩn\n",
            "không có bằng chứng để bác bỏ giả thiết H0: mẫu rất cao tuân theo phân phối chuẩn\n",
            "\n",
            "không có bằng chứng để bác bỏ giả thiết H0: Phương sai đồng nhất\n",
            "\n",
            "không có bằng chứng để bác bỏ giả thiết H0: các giá trị trung bình bằng nhau\n"
          ],
          "name": "stdout"
        }
      ]
    },
    {
      "cell_type": "markdown",
      "metadata": {
        "id": "byfLXho2m2nN"
      },
      "source": [
        "**=> kết luận:** chiều cao không ảnh hưởng đến việc giảm cân"
      ]
    },
    {
      "cell_type": "markdown",
      "metadata": {
        "id": "c7GHykipwViW"
      },
      "source": [
        "<br>\n",
        "<br>\n",
        "<br>\n",
        "<br>\n",
        "<hr>"
      ]
    }
  ]
}