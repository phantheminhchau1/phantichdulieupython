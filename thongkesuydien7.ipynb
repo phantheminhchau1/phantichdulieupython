{
  "nbformat": 4,
  "nbformat_minor": 0,
  "metadata": {
    "colab": {
      "name": "thongkesuydien.ipynb",
      "provenance": [],
      "collapsed_sections": [],
      "authorship_tag": "ABX9TyO11OoMNHnwaGyFx7ypO5j0",
      "include_colab_link": true
    },
    "kernelspec": {
      "name": "python3",
      "display_name": "Python 3"
    },
    "language_info": {
      "name": "python"
    }
  },
  "cells": [
    {
      "cell_type": "markdown",
      "metadata": {
        "id": "view-in-github",
        "colab_type": "text"
      },
      "source": [
        "<img src=\"https://colab.research.google.com/assets/colab-badge.svg\" alt=\"Open In Colab\"/>"
      ]
    },
    {
      "cell_type": "markdown",
      "metadata": {
        "id": "ascv-0G6ca5w"
      },
      "source": [
        "hello"
      ]
    },
    {
      "cell_type": "markdown",
      "metadata": {
        "id": "_XllGVaiSxMg"
      },
      "source": [
        "<font size = 200><center>Thống kê suy diễn</center></font>\n",
        "<hr  width=\"30%\" align=\"center\" />\n",
        "<p align='right'>Phan Thế Minh Châu</p>\n",
        "<p align='right'>20E1020067</p>\n",
        "<br>"
      ]
    },
    {
      "cell_type": "markdown",
      "metadata": {
        "id": "BPnSdjPLZkA9"
      },
      "source": [
        "**khai báo thư viện:**"
      ]
    },
    {
      "cell_type": "code",
      "metadata": {
        "id": "GWO9MoLo-Gtl",
        "colab": {
          "base_uri": "https://localhost:8080/"
        },
        "outputId": "7b66ab49-a0fb-4ca7-cfae-8956be146a58"
      },
      "source": [
        "import numpy as np\n",
        "import pandas as pd\n",
        "from scipy import stats\n",
        "import statsmodels.api as sm\n",
        "import matplotlib.pyplot as plt\n",
        "import seaborn as sns\n",
        "import warnings\n",
        "warnings.simplefilter(action=\"ignore\", category=FutureWarning)"
      ],
      "execution_count": 16,
      "outputs": [
        {
          "output_type": "stream",
          "text": [
            "Using matplotlib backend: agg\n"
          ],
          "name": "stdout"
        }
      ]
    },
    {
      "cell_type": "code",
      "metadata": {
        "colab": {
          "base_uri": "https://localhost:8080/",
          "height": 357
        },
        "id": "wvOc4ADacd18",
        "outputId": "2f641cac-0ad5-45f2-f8d9-80ab67ad9640"
      },
      "source": [
        "df = pd.read_csv(\"https://raw.githubusercontent.com/PhanTheMinhChau/phantichdulieupython/main/data/Diet_R.csv\")\n",
        "df.sample(10)"
      ],
      "execution_count": 2,
      "outputs": [
        {
          "output_type": "execute_result",
          "data": {
            "text/html": [
              "<div>\n",
              "<style scoped>\n",
              "    .dataframe tbody tr th:only-of-type {\n",
              "        vertical-align: middle;\n",
              "    }\n",
              "\n",
              "    .dataframe tbody tr th {\n",
              "        vertical-align: top;\n",
              "    }\n",
              "\n",
              "    .dataframe thead th {\n",
              "        text-align: right;\n",
              "    }\n",
              "</style>\n",
              "<table border=\"1\" class=\"dataframe\">\n",
              "  <thead>\n",
              "    <tr style=\"text-align: right;\">\n",
              "      <th></th>\n",
              "      <th>Person</th>\n",
              "      <th>gender</th>\n",
              "      <th>Age</th>\n",
              "      <th>Height</th>\n",
              "      <th>pre.weight</th>\n",
              "      <th>Diet</th>\n",
              "      <th>weight6weeks</th>\n",
              "    </tr>\n",
              "  </thead>\n",
              "  <tbody>\n",
              "    <tr>\n",
              "      <th>8</th>\n",
              "      <td>7</td>\n",
              "      <td>0</td>\n",
              "      <td>37</td>\n",
              "      <td>174</td>\n",
              "      <td>67</td>\n",
              "      <td>1</td>\n",
              "      <td>65.0</td>\n",
              "    </tr>\n",
              "    <tr>\n",
              "      <th>11</th>\n",
              "      <td>10</td>\n",
              "      <td>0</td>\n",
              "      <td>45</td>\n",
              "      <td>165</td>\n",
              "      <td>70</td>\n",
              "      <td>1</td>\n",
              "      <td>66.9</td>\n",
              "    </tr>\n",
              "    <tr>\n",
              "      <th>68</th>\n",
              "      <td>69</td>\n",
              "      <td>1</td>\n",
              "      <td>29</td>\n",
              "      <td>166</td>\n",
              "      <td>76</td>\n",
              "      <td>3</td>\n",
              "      <td>72.5</td>\n",
              "    </tr>\n",
              "    <tr>\n",
              "      <th>61</th>\n",
              "      <td>47</td>\n",
              "      <td>1</td>\n",
              "      <td>44</td>\n",
              "      <td>163</td>\n",
              "      <td>79</td>\n",
              "      <td>2</td>\n",
              "      <td>73.6</td>\n",
              "    </tr>\n",
              "    <tr>\n",
              "      <th>64</th>\n",
              "      <td>50</td>\n",
              "      <td>1</td>\n",
              "      <td>39</td>\n",
              "      <td>180</td>\n",
              "      <td>80</td>\n",
              "      <td>2</td>\n",
              "      <td>81.4</td>\n",
              "    </tr>\n",
              "    <tr>\n",
              "      <th>45</th>\n",
              "      <td>15</td>\n",
              "      <td>1</td>\n",
              "      <td>39</td>\n",
              "      <td>168</td>\n",
              "      <td>71</td>\n",
              "      <td>1</td>\n",
              "      <td>71.6</td>\n",
              "    </tr>\n",
              "    <tr>\n",
              "      <th>32</th>\n",
              "      <td>54</td>\n",
              "      <td>0</td>\n",
              "      <td>21</td>\n",
              "      <td>159</td>\n",
              "      <td>64</td>\n",
              "      <td>3</td>\n",
              "      <td>60.6</td>\n",
              "    </tr>\n",
              "    <tr>\n",
              "      <th>28</th>\n",
              "      <td>39</td>\n",
              "      <td>0</td>\n",
              "      <td>30</td>\n",
              "      <td>161</td>\n",
              "      <td>76</td>\n",
              "      <td>2</td>\n",
              "      <td>72.7</td>\n",
              "    </tr>\n",
              "    <tr>\n",
              "      <th>47</th>\n",
              "      <td>17</td>\n",
              "      <td>1</td>\n",
              "      <td>40</td>\n",
              "      <td>173</td>\n",
              "      <td>74</td>\n",
              "      <td>1</td>\n",
              "      <td>69.5</td>\n",
              "    </tr>\n",
              "    <tr>\n",
              "      <th>62</th>\n",
              "      <td>48</td>\n",
              "      <td>1</td>\n",
              "      <td>40</td>\n",
              "      <td>171</td>\n",
              "      <td>79</td>\n",
              "      <td>2</td>\n",
              "      <td>72.9</td>\n",
              "    </tr>\n",
              "  </tbody>\n",
              "</table>\n",
              "</div>"
            ],
            "text/plain": [
              "    Person gender  Age  Height  pre.weight  Diet  weight6weeks\n",
              "8        7      0   37     174          67     1          65.0\n",
              "11      10      0   45     165          70     1          66.9\n",
              "68      69      1   29     166          76     3          72.5\n",
              "61      47      1   44     163          79     2          73.6\n",
              "64      50      1   39     180          80     2          81.4\n",
              "45      15      1   39     168          71     1          71.6\n",
              "32      54      0   21     159          64     3          60.6\n",
              "28      39      0   30     161          76     2          72.7\n",
              "47      17      1   40     173          74     1          69.5\n",
              "62      48      1   40     171          79     2          72.9"
            ]
          },
          "metadata": {
            "tags": []
          },
          "execution_count": 2
        }
      ]
    },
    {
      "cell_type": "markdown",
      "metadata": {
        "id": "TszBOiKQe5uE"
      },
      "source": [
        "**làm sạch dữ liệu:**"
      ]
    },
    {
      "cell_type": "code",
      "metadata": {
        "colab": {
          "base_uri": "https://localhost:8080/",
          "height": 357
        },
        "id": "0jRDAJFBe13u",
        "outputId": "633d9bc7-54d5-4534-ec09-b1a3c9966995"
      },
      "source": [
        "df.replace(\" \", np.nan, inplace=True) #chuyển đổi các ô trống sang NaN\n",
        "df.dropna(inplace=True) #Xóa các hàng có giá trị NaN\n",
        "df.sample(10)"
      ],
      "execution_count": 3,
      "outputs": [
        {
          "output_type": "execute_result",
          "data": {
            "text/html": [
              "<div>\n",
              "<style scoped>\n",
              "    .dataframe tbody tr th:only-of-type {\n",
              "        vertical-align: middle;\n",
              "    }\n",
              "\n",
              "    .dataframe tbody tr th {\n",
              "        vertical-align: top;\n",
              "    }\n",
              "\n",
              "    .dataframe thead th {\n",
              "        text-align: right;\n",
              "    }\n",
              "</style>\n",
              "<table border=\"1\" class=\"dataframe\">\n",
              "  <thead>\n",
              "    <tr style=\"text-align: right;\">\n",
              "      <th></th>\n",
              "      <th>Person</th>\n",
              "      <th>gender</th>\n",
              "      <th>Age</th>\n",
              "      <th>Height</th>\n",
              "      <th>pre.weight</th>\n",
              "      <th>Diet</th>\n",
              "      <th>weight6weeks</th>\n",
              "    </tr>\n",
              "  </thead>\n",
              "  <tbody>\n",
              "    <tr>\n",
              "      <th>62</th>\n",
              "      <td>48</td>\n",
              "      <td>1</td>\n",
              "      <td>40</td>\n",
              "      <td>171</td>\n",
              "      <td>79</td>\n",
              "      <td>2</td>\n",
              "      <td>72.9</td>\n",
              "    </tr>\n",
              "    <tr>\n",
              "      <th>10</th>\n",
              "      <td>9</td>\n",
              "      <td>0</td>\n",
              "      <td>28</td>\n",
              "      <td>165</td>\n",
              "      <td>70</td>\n",
              "      <td>1</td>\n",
              "      <td>68.1</td>\n",
              "    </tr>\n",
              "    <tr>\n",
              "      <th>58</th>\n",
              "      <td>44</td>\n",
              "      <td>1</td>\n",
              "      <td>33</td>\n",
              "      <td>190</td>\n",
              "      <td>76</td>\n",
              "      <td>2</td>\n",
              "      <td>72.5</td>\n",
              "    </tr>\n",
              "    <tr>\n",
              "      <th>26</th>\n",
              "      <td>37</td>\n",
              "      <td>0</td>\n",
              "      <td>16</td>\n",
              "      <td>165</td>\n",
              "      <td>68</td>\n",
              "      <td>2</td>\n",
              "      <td>63.8</td>\n",
              "    </tr>\n",
              "    <tr>\n",
              "      <th>74</th>\n",
              "      <td>75</td>\n",
              "      <td>1</td>\n",
              "      <td>49</td>\n",
              "      <td>177</td>\n",
              "      <td>84</td>\n",
              "      <td>3</td>\n",
              "      <td>79.9</td>\n",
              "    </tr>\n",
              "    <tr>\n",
              "      <th>46</th>\n",
              "      <td>16</td>\n",
              "      <td>1</td>\n",
              "      <td>31</td>\n",
              "      <td>158</td>\n",
              "      <td>72</td>\n",
              "      <td>1</td>\n",
              "      <td>70.9</td>\n",
              "    </tr>\n",
              "    <tr>\n",
              "      <th>50</th>\n",
              "      <td>20</td>\n",
              "      <td>1</td>\n",
              "      <td>25</td>\n",
              "      <td>165</td>\n",
              "      <td>80</td>\n",
              "      <td>1</td>\n",
              "      <td>77.6</td>\n",
              "    </tr>\n",
              "    <tr>\n",
              "      <th>48</th>\n",
              "      <td>18</td>\n",
              "      <td>1</td>\n",
              "      <td>50</td>\n",
              "      <td>160</td>\n",
              "      <td>78</td>\n",
              "      <td>1</td>\n",
              "      <td>73.9</td>\n",
              "    </tr>\n",
              "    <tr>\n",
              "      <th>20</th>\n",
              "      <td>31</td>\n",
              "      <td>0</td>\n",
              "      <td>20</td>\n",
              "      <td>169</td>\n",
              "      <td>62</td>\n",
              "      <td>2</td>\n",
              "      <td>55.0</td>\n",
              "    </tr>\n",
              "    <tr>\n",
              "      <th>69</th>\n",
              "      <td>70</td>\n",
              "      <td>1</td>\n",
              "      <td>37</td>\n",
              "      <td>173</td>\n",
              "      <td>78</td>\n",
              "      <td>3</td>\n",
              "      <td>77.5</td>\n",
              "    </tr>\n",
              "  </tbody>\n",
              "</table>\n",
              "</div>"
            ],
            "text/plain": [
              "    Person gender  Age  Height  pre.weight  Diet  weight6weeks\n",
              "62      48      1   40     171          79     2          72.9\n",
              "10       9      0   28     165          70     1          68.1\n",
              "58      44      1   33     190          76     2          72.5\n",
              "26      37      0   16     165          68     2          63.8\n",
              "74      75      1   49     177          84     3          79.9\n",
              "46      16      1   31     158          72     1          70.9\n",
              "50      20      1   25     165          80     1          77.6\n",
              "48      18      1   50     160          78     1          73.9\n",
              "20      31      0   20     169          62     2          55.0\n",
              "69      70      1   37     173          78     3          77.5"
            ]
          },
          "metadata": {
            "tags": []
          },
          "execution_count": 3
        }
      ]
    },
    {
      "cell_type": "markdown",
      "metadata": {
        "id": "IxciemcIlrGS"
      },
      "source": [
        "##**Các hàm phân tích ANOVA**"
      ]
    },
    {
      "cell_type": "markdown",
      "metadata": {
        "id": "AsTKdKcPl0jm"
      },
      "source": [
        "###Kiểm tra phân phối chuẩn:\n",
        "**Phát biểu giả thiết:**\n",
        "- H0: mẫu tuân theo phân phối chuẩn\n",
        "- H1: Mẫu không tuân theo phân phối chuẩn"
      ]
    },
    {
      "cell_type": "code",
      "metadata": {
        "id": "ss1N6KaxlgcL"
      },
      "source": [
        "def shapiro(data): # kiểm tra phân phối chẩn hay không\n",
        "    series = []\n",
        "    for i in data.columns:\n",
        "        series.append(data[i].dropna())\n",
        "    for j in series:\n",
        "        sts, p = stats.shapiro(j)\n",
        "        if p > 0.05:\n",
        "            print(f'không có bằng chứng để bác bỏ giả thiết H0: mẫu {j.name} tuân theo phân phối chuẩn')\n",
        "        else:\n",
        "            print(f'có bằng chứng để bác bỏ giả thiết H0, điều này ngụ ý chấp nhận giả thiết H1: mẫu {j.name} không tuân theo phân phối chuẩn')\n",
        "    print()"
      ],
      "execution_count": 4,
      "outputs": []
    },
    {
      "cell_type": "markdown",
      "metadata": {
        "id": "_gIuFgQ9mgMD"
      },
      "source": [
        "###kiểm tra tính đồng nhất phương sai:\n",
        "**Phát biểu giả thiết:**\n",
        "- H0: Phương sai đồng nhất\n",
        "- H1: phương sai không đồng nhất"
      ]
    },
    {
      "cell_type": "code",
      "metadata": {
        "id": "zrNvfbDpmj5c"
      },
      "source": [
        "def levene(data): # khiểm tra tính đồng nhất phương sai\n",
        "    series = []\n",
        "    for i in data.columns:\n",
        "        series.append(data[i].dropna())\n",
        "    sts, p = stats.levene(*series)\n",
        "    if p > 0.05:\n",
        "        print(f'không có bằng chứng để bác bỏ giả thiết H0: Phương sai đồng nhất\\n')\n",
        "    else:\n",
        "        print(f'có bằng chứng để bác bỏ giả thiết H0, điều này ngụ ý chấp nhận giả thiết H1: phương sai không đồng nhất\\n')\n"
      ],
      "execution_count": 5,
      "outputs": []
    },
    {
      "cell_type": "markdown",
      "metadata": {
        "id": "NVJJ2mAKmkVU"
      },
      "source": [
        "###Kiểm tra tính đồng nhất về giá trị trung bình:\n",
        "**Phát biểu giả thiết:**\n",
        "- H0: các giá trị trung bình bằng nhau\n",
        "- H1: Có tối thiểu một cặp giá trị trung bình có giá trị khác nhau"
      ]
    },
    {
      "cell_type": "code",
      "metadata": {
        "id": "8vBPsa_smlMZ"
      },
      "source": [
        "def anova(data):\n",
        "    series = []\n",
        "    for i in data.columns:\n",
        "        series.append(data[i].dropna())\n",
        "    sts, p = stats.f_oneway(*series)\n",
        "    if p > 0.05:\n",
        "        print('không có bằng chứng để bác bỏ giả thiết H0: các giá trị trung bình bằng nhau')\n",
        "    else:\n",
        "        print('có bằng chứng để bác bỏ giả thiết H0, điều này ngụ ý chấp nhận giả thiết H1: Có tối thiểu một cặp giá trị trung bình có giá trị khác nhau')"
      ],
      "execution_count": 6,
      "outputs": []
    },
    {
      "cell_type": "markdown",
      "metadata": {
        "id": "g6ALfGV8nUl1"
      },
      "source": [
        "##Tiến hành phân tích:"
      ]
    },
    {
      "cell_type": "markdown",
      "metadata": {
        "id": "WOPdMuUO_Ehc"
      },
      "source": [
        "###**Ignore diet and test to see if weight has been lost** (Bỏ qua chế độ ăn kiêng và kiểm tra xem đã giảm cân chưa?)"
      ]
    },
    {
      "cell_type": "markdown",
      "metadata": {
        "id": "KjuoFFdI_n02"
      },
      "source": [
        "**phát biểu giả thiết:**\n",
        "- h0: Cân nặng trước khi kiểm tra và sau khi kiểm tra bằng nhau\n",
        "- h1: Cân nặng trước khi kiểm tra và sau khi kiểm tra không bằng nhau"
      ]
    },
    {
      "cell_type": "code",
      "metadata": {
        "colab": {
          "base_uri": "https://localhost:8080/"
        },
        "id": "en7-EWgC_meF",
        "outputId": "038b6b64-e803-4a79-b76d-6837a3574482"
      },
      "source": [
        "stat, p = stats.ttest_ind(df[\"pre.weight\"], df[\"weight6weeks\"])\n",
        "print('Stat =', stat, 'P_value =', p)\n",
        "if p > 0.05:\n",
        "    print(\"không có bằng chứng để bác bỏ giả thiết H0: Cân nặng trước khi kiểm tra và sau khi kiểm tra bằng nhau\")\n",
        "else:\n",
        "    print(\"có bằng chứng để bác bỏ giả thiết H0, điều này ngụ ý chấp nhận giả thiết H1: Cân nặng trước khi kiểm tra và sau khi kiểm tra không bằng nhau\")"
      ],
      "execution_count": 7,
      "outputs": [
        {
          "output_type": "stream",
          "text": [
            "Stat = 3.0342255247628476 P_value = 0.0028431949414180584\n",
            "có bằng chứng để bác bỏ giả thiết H0, điều này ngụ ý chấp nhận giả thiết H1: Cân nặng trước khi kiểm tra và sau khi kiểm tra không bằng nhau\n"
          ],
          "name": "stdout"
        }
      ]
    },
    {
      "cell_type": "markdown",
      "metadata": {
        "id": "LW9-vI0ACYZy"
      },
      "source": [
        "###**Remove weight lost and get students to calculate it using before/after weights**"
      ]
    },
    {
      "cell_type": "code",
      "metadata": {
        "colab": {
          "base_uri": "https://localhost:8080/",
          "height": 357
        },
        "id": "Y7gny0gNCfwB",
        "outputId": "f94541e1-cc03-4f0a-d54e-262e74b2b495"
      },
      "source": [
        "weight_lost = df[\"pre.weight\"] - df[\"weight6weeks\"] \n",
        "df['weightlost'] = weight_lost.values\n",
        "df.sample(10)"
      ],
      "execution_count": 8,
      "outputs": [
        {
          "output_type": "execute_result",
          "data": {
            "text/html": [
              "<div>\n",
              "<style scoped>\n",
              "    .dataframe tbody tr th:only-of-type {\n",
              "        vertical-align: middle;\n",
              "    }\n",
              "\n",
              "    .dataframe tbody tr th {\n",
              "        vertical-align: top;\n",
              "    }\n",
              "\n",
              "    .dataframe thead th {\n",
              "        text-align: right;\n",
              "    }\n",
              "</style>\n",
              "<table border=\"1\" class=\"dataframe\">\n",
              "  <thead>\n",
              "    <tr style=\"text-align: right;\">\n",
              "      <th></th>\n",
              "      <th>Person</th>\n",
              "      <th>gender</th>\n",
              "      <th>Age</th>\n",
              "      <th>Height</th>\n",
              "      <th>pre.weight</th>\n",
              "      <th>Diet</th>\n",
              "      <th>weight6weeks</th>\n",
              "      <th>weightlost</th>\n",
              "    </tr>\n",
              "  </thead>\n",
              "  <tbody>\n",
              "    <tr>\n",
              "      <th>66</th>\n",
              "      <td>67</td>\n",
              "      <td>1</td>\n",
              "      <td>36</td>\n",
              "      <td>155</td>\n",
              "      <td>71</td>\n",
              "      <td>3</td>\n",
              "      <td>68.5</td>\n",
              "      <td>2.5</td>\n",
              "    </tr>\n",
              "    <tr>\n",
              "      <th>76</th>\n",
              "      <td>77</td>\n",
              "      <td>1</td>\n",
              "      <td>40</td>\n",
              "      <td>167</td>\n",
              "      <td>87</td>\n",
              "      <td>3</td>\n",
              "      <td>77.8</td>\n",
              "      <td>9.2</td>\n",
              "    </tr>\n",
              "    <tr>\n",
              "      <th>48</th>\n",
              "      <td>18</td>\n",
              "      <td>1</td>\n",
              "      <td>50</td>\n",
              "      <td>160</td>\n",
              "      <td>78</td>\n",
              "      <td>1</td>\n",
              "      <td>73.9</td>\n",
              "      <td>4.1</td>\n",
              "    </tr>\n",
              "    <tr>\n",
              "      <th>62</th>\n",
              "      <td>48</td>\n",
              "      <td>1</td>\n",
              "      <td>40</td>\n",
              "      <td>171</td>\n",
              "      <td>79</td>\n",
              "      <td>2</td>\n",
              "      <td>72.9</td>\n",
              "      <td>6.1</td>\n",
              "    </tr>\n",
              "    <tr>\n",
              "      <th>40</th>\n",
              "      <td>62</td>\n",
              "      <td>0</td>\n",
              "      <td>31</td>\n",
              "      <td>170</td>\n",
              "      <td>72</td>\n",
              "      <td>3</td>\n",
              "      <td>71.1</td>\n",
              "      <td>0.9</td>\n",
              "    </tr>\n",
              "    <tr>\n",
              "      <th>53</th>\n",
              "      <td>23</td>\n",
              "      <td>1</td>\n",
              "      <td>39</td>\n",
              "      <td>166</td>\n",
              "      <td>87</td>\n",
              "      <td>1</td>\n",
              "      <td>81.9</td>\n",
              "      <td>5.1</td>\n",
              "    </tr>\n",
              "    <tr>\n",
              "      <th>17</th>\n",
              "      <td>28</td>\n",
              "      <td>0</td>\n",
              "      <td>37</td>\n",
              "      <td>172</td>\n",
              "      <td>58</td>\n",
              "      <td>2</td>\n",
              "      <td>56.0</td>\n",
              "      <td>2.0</td>\n",
              "    </tr>\n",
              "    <tr>\n",
              "      <th>44</th>\n",
              "      <td>66</td>\n",
              "      <td>0</td>\n",
              "      <td>41</td>\n",
              "      <td>157</td>\n",
              "      <td>76</td>\n",
              "      <td>3</td>\n",
              "      <td>71.0</td>\n",
              "      <td>5.0</td>\n",
              "    </tr>\n",
              "    <tr>\n",
              "      <th>3</th>\n",
              "      <td>2</td>\n",
              "      <td>0</td>\n",
              "      <td>46</td>\n",
              "      <td>192</td>\n",
              "      <td>60</td>\n",
              "      <td>1</td>\n",
              "      <td>54.0</td>\n",
              "      <td>6.0</td>\n",
              "    </tr>\n",
              "    <tr>\n",
              "      <th>19</th>\n",
              "      <td>30</td>\n",
              "      <td>0</td>\n",
              "      <td>43</td>\n",
              "      <td>171</td>\n",
              "      <td>61</td>\n",
              "      <td>2</td>\n",
              "      <td>56.7</td>\n",
              "      <td>4.3</td>\n",
              "    </tr>\n",
              "  </tbody>\n",
              "</table>\n",
              "</div>"
            ],
            "text/plain": [
              "    Person gender  Age  Height  pre.weight  Diet  weight6weeks  weightlost\n",
              "66      67      1   36     155          71     3          68.5         2.5\n",
              "76      77      1   40     167          87     3          77.8         9.2\n",
              "48      18      1   50     160          78     1          73.9         4.1\n",
              "62      48      1   40     171          79     2          72.9         6.1\n",
              "40      62      0   31     170          72     3          71.1         0.9\n",
              "53      23      1   39     166          87     1          81.9         5.1\n",
              "17      28      0   37     172          58     2          56.0         2.0\n",
              "44      66      0   41     157          76     3          71.0         5.0\n",
              "3        2      0   46     192          60     1          54.0         6.0\n",
              "19      30      0   43     171          61     2          56.7         4.3"
            ]
          },
          "metadata": {
            "tags": []
          },
          "execution_count": 8
        }
      ]
    },
    {
      "cell_type": "markdown",
      "metadata": {
        "id": "rmMuBByCFvEF"
      },
      "source": [
        "###**Summary statistics by diet**"
      ]
    },
    {
      "cell_type": "code",
      "metadata": {
        "colab": {
          "base_uri": "https://localhost:8080/",
          "height": 788
        },
        "id": "jhiLV2q3IZWt",
        "outputId": "4430225f-d811-48b1-e389-a2c047fd20c1"
      },
      "source": [
        "# phân nhóm giá trị weightlost theo diet\n",
        "weightlost_1 = df[(df['Diet'] == 1)][\"weightlost\"]\n",
        "weightlost_2 = df[(df['Diet'] == 2)][\"weightlost\"]\n",
        "weightlost_3 = df[(df['Diet'] == 3)][\"weightlost\"]\n",
        "weight_lost = list(zip(weightlost_1, weightlost_2, weightlost_3))\n",
        "df_diet =  pd.DataFrame(weight_lost, columns = (\"Diet 1\", \"Diet 2\", \"Diet 3\"))\n",
        "df_diet"
      ],
      "execution_count": 9,
      "outputs": [
        {
          "output_type": "execute_result",
          "data": {
            "text/html": [
              "<div>\n",
              "<style scoped>\n",
              "    .dataframe tbody tr th:only-of-type {\n",
              "        vertical-align: middle;\n",
              "    }\n",
              "\n",
              "    .dataframe tbody tr th {\n",
              "        vertical-align: top;\n",
              "    }\n",
              "\n",
              "    .dataframe thead th {\n",
              "        text-align: right;\n",
              "    }\n",
              "</style>\n",
              "<table border=\"1\" class=\"dataframe\">\n",
              "  <thead>\n",
              "    <tr style=\"text-align: right;\">\n",
              "      <th></th>\n",
              "      <th>Diet 1</th>\n",
              "      <th>Diet 2</th>\n",
              "      <th>Diet 3</th>\n",
              "    </tr>\n",
              "  </thead>\n",
              "  <tbody>\n",
              "    <tr>\n",
              "      <th>0</th>\n",
              "      <td>3.8</td>\n",
              "      <td>-2.1</td>\n",
              "      <td>7.0</td>\n",
              "    </tr>\n",
              "    <tr>\n",
              "      <th>1</th>\n",
              "      <td>6.0</td>\n",
              "      <td>2.0</td>\n",
              "      <td>5.6</td>\n",
              "    </tr>\n",
              "    <tr>\n",
              "      <th>2</th>\n",
              "      <td>0.7</td>\n",
              "      <td>1.7</td>\n",
              "      <td>3.4</td>\n",
              "    </tr>\n",
              "    <tr>\n",
              "      <th>3</th>\n",
              "      <td>2.9</td>\n",
              "      <td>4.3</td>\n",
              "      <td>6.8</td>\n",
              "    </tr>\n",
              "    <tr>\n",
              "      <th>4</th>\n",
              "      <td>2.8</td>\n",
              "      <td>7.0</td>\n",
              "      <td>7.8</td>\n",
              "    </tr>\n",
              "    <tr>\n",
              "      <th>5</th>\n",
              "      <td>2.0</td>\n",
              "      <td>0.6</td>\n",
              "      <td>5.4</td>\n",
              "    </tr>\n",
              "    <tr>\n",
              "      <th>6</th>\n",
              "      <td>2.0</td>\n",
              "      <td>2.7</td>\n",
              "      <td>6.8</td>\n",
              "    </tr>\n",
              "    <tr>\n",
              "      <th>7</th>\n",
              "      <td>8.5</td>\n",
              "      <td>3.6</td>\n",
              "      <td>7.2</td>\n",
              "    </tr>\n",
              "    <tr>\n",
              "      <th>8</th>\n",
              "      <td>1.9</td>\n",
              "      <td>3.0</td>\n",
              "      <td>7.0</td>\n",
              "    </tr>\n",
              "    <tr>\n",
              "      <th>9</th>\n",
              "      <td>3.1</td>\n",
              "      <td>2.0</td>\n",
              "      <td>7.3</td>\n",
              "    </tr>\n",
              "    <tr>\n",
              "      <th>10</th>\n",
              "      <td>1.5</td>\n",
              "      <td>4.2</td>\n",
              "      <td>0.9</td>\n",
              "    </tr>\n",
              "    <tr>\n",
              "      <th>11</th>\n",
              "      <td>3.0</td>\n",
              "      <td>4.7</td>\n",
              "      <td>7.6</td>\n",
              "    </tr>\n",
              "    <tr>\n",
              "      <th>12</th>\n",
              "      <td>3.6</td>\n",
              "      <td>3.3</td>\n",
              "      <td>4.1</td>\n",
              "    </tr>\n",
              "    <tr>\n",
              "      <th>13</th>\n",
              "      <td>0.9</td>\n",
              "      <td>-0.5</td>\n",
              "      <td>6.3</td>\n",
              "    </tr>\n",
              "    <tr>\n",
              "      <th>14</th>\n",
              "      <td>-0.6</td>\n",
              "      <td>4.2</td>\n",
              "      <td>5.0</td>\n",
              "    </tr>\n",
              "    <tr>\n",
              "      <th>15</th>\n",
              "      <td>1.1</td>\n",
              "      <td>2.4</td>\n",
              "      <td>2.5</td>\n",
              "    </tr>\n",
              "    <tr>\n",
              "      <th>16</th>\n",
              "      <td>4.5</td>\n",
              "      <td>5.8</td>\n",
              "      <td>0.9</td>\n",
              "    </tr>\n",
              "    <tr>\n",
              "      <th>17</th>\n",
              "      <td>4.1</td>\n",
              "      <td>3.5</td>\n",
              "      <td>3.5</td>\n",
              "    </tr>\n",
              "    <tr>\n",
              "      <th>18</th>\n",
              "      <td>9.0</td>\n",
              "      <td>5.3</td>\n",
              "      <td>0.5</td>\n",
              "    </tr>\n",
              "    <tr>\n",
              "      <th>19</th>\n",
              "      <td>2.4</td>\n",
              "      <td>1.7</td>\n",
              "      <td>2.8</td>\n",
              "    </tr>\n",
              "    <tr>\n",
              "      <th>20</th>\n",
              "      <td>3.9</td>\n",
              "      <td>5.4</td>\n",
              "      <td>8.6</td>\n",
              "    </tr>\n",
              "    <tr>\n",
              "      <th>21</th>\n",
              "      <td>3.5</td>\n",
              "      <td>6.1</td>\n",
              "      <td>4.5</td>\n",
              "    </tr>\n",
              "    <tr>\n",
              "      <th>22</th>\n",
              "      <td>5.1</td>\n",
              "      <td>7.9</td>\n",
              "      <td>2.8</td>\n",
              "    </tr>\n",
              "    <tr>\n",
              "      <th>23</th>\n",
              "      <td>3.5</td>\n",
              "      <td>-1.4</td>\n",
              "      <td>4.1</td>\n",
              "    </tr>\n",
              "  </tbody>\n",
              "</table>\n",
              "</div>"
            ],
            "text/plain": [
              "    Diet 1  Diet 2  Diet 3\n",
              "0      3.8    -2.1     7.0\n",
              "1      6.0     2.0     5.6\n",
              "2      0.7     1.7     3.4\n",
              "3      2.9     4.3     6.8\n",
              "4      2.8     7.0     7.8\n",
              "5      2.0     0.6     5.4\n",
              "6      2.0     2.7     6.8\n",
              "7      8.5     3.6     7.2\n",
              "8      1.9     3.0     7.0\n",
              "9      3.1     2.0     7.3\n",
              "10     1.5     4.2     0.9\n",
              "11     3.0     4.7     7.6\n",
              "12     3.6     3.3     4.1\n",
              "13     0.9    -0.5     6.3\n",
              "14    -0.6     4.2     5.0\n",
              "15     1.1     2.4     2.5\n",
              "16     4.5     5.8     0.9\n",
              "17     4.1     3.5     3.5\n",
              "18     9.0     5.3     0.5\n",
              "19     2.4     1.7     2.8\n",
              "20     3.9     5.4     8.6\n",
              "21     3.5     6.1     4.5\n",
              "22     5.1     7.9     2.8\n",
              "23     3.5    -1.4     4.1"
            ]
          },
          "metadata": {
            "tags": []
          },
          "execution_count": 9
        }
      ]
    },
    {
      "cell_type": "code",
      "metadata": {
        "colab": {
          "base_uri": "https://localhost:8080/",
          "height": 693
        },
        "id": "foOIPJnlF0om",
        "outputId": "fcf86457-c5d8-4953-aa9b-46bb93e7c7ba"
      },
      "source": [
        "#Thống kê tóm tắt theo chế độ ăn uống\n",
        "su_stat = df_diet.agg(\n",
        "      {\n",
        "          \"Diet 1\": [\"min\", \"max\", \"mean\", \"median\", \"std\"],\n",
        "          \"Diet 2\": [\"min\", \"max\", \"mean\", \"median\", \"std\"],\n",
        "          \"Diet 3\": [\"min\", \"max\", \"mean\", \"median\", \"std\"]\n",
        "      }\n",
        ").T\n",
        "print(su_stat)\n",
        "print(\"\\n\")\n",
        "def box_plot(data): #vẽ đồ thị boxplot\n",
        "  fig, ax = plt.subplots(figsize=(10,10))\n",
        "  sns.boxplot(data= data,width=0.2, fliersize=12, flierprops = dict(marker=\".\",markerfacecolor='r'))\n",
        "box_plot(df_diet)"
      ],
      "execution_count": 43,
      "outputs": [
        {
          "output_type": "stream",
          "text": [
            "        min  max      mean  median       std\n",
            "Diet 1 -0.6  9.0  3.300000    3.05  2.240148\n",
            "Diet 2 -2.1  7.9  3.225000    3.40  2.507944\n",
            "Diet 3  0.5  8.6  4.933333    5.20  2.384309\n",
            "\n",
            "\n"
          ],
          "name": "stdout"
        },
        {
          "output_type": "display_data",
          "data": {
            "image/png": "[encoded data removed]",
            "text/plain": [
              "<Figure size 720x720 with 1 Axes>"
            ]
          },
          "metadata": {
            "tags": [],
            "needs_background": "light"
          }
        }
      ]
    },
    {
      "cell_type": "markdown",
      "metadata": {
        "id": "Uo9byBv8Qili"
      },
      "source": [
        "###**kiểm định ANOVA**"
      ]
    },
    {
      "cell_type": "code",
      "metadata": {
        "colab": {
          "base_uri": "https://localhost:8080/"
        },
        "id": "nAnI_YG_c_7u",
        "outputId": "eef419ff-74ed-4fcb-ad66-b4e3816299ed"
      },
      "source": [
        "shapiro(df_diet) #kiểm tra độ lệch chuẩn  \n",
        "levene(df_diet)  #kiểm tra tính đồng nhất về phương sai\n",
        "anova(df_diet)   #kiểm định ANOVA"
      ],
      "execution_count": 11,
      "outputs": [
        {
          "output_type": "stream",
          "text": [
            "không có bằng chứng để bác bỏ giả thiết H0: mẫu Diet 1 tuân theo phân phối chuẩn\n",
            "không có bằng chứng để bác bỏ giả thiết H0: mẫu Diet 2 tuân theo phân phối chuẩn\n",
            "không có bằng chứng để bác bỏ giả thiết H0: mẫu Diet 3 tuân theo phân phối chuẩn\n",
            "\n",
            "không có bằng chứng để bác bỏ giả thiết H0: Phương sai đồng nhất\n",
            "\n",
            "có bằng chứng để bác bỏ giả thiết H0, điều này ngụ ý chấp nhận giả thiết H1: Có tối thiểu một cặp giá trị trung bình có giá trị khác nhau\n"
          ],
          "name": "stdout"
        }
      ]
    },
    {
      "cell_type": "code",
      "metadata": {
        "colab": {
          "base_uri": "https://localhost:8080/",
          "height": 80
        },
        "id": "8D-MB4ybekwz",
        "outputId": "4a18ca7d-3d54-4ae6-d51f-9be2fc30d6e4"
      },
      "source": [
        "p = {}\n",
        "p['mean1'] = np.mean(df_diet[\"Diet 1\"])\n",
        "p['mean2'] = np.mean(df_diet[\"Diet 2\"])\n",
        "p['mean3'] = np.mean(df_diet[\"Diet 3\"])\n",
        "dt = pd.DataFrame(p, index=[''])\n",
        "dt"
      ],
      "execution_count": 12,
      "outputs": [
        {
          "output_type": "execute_result",
          "data": {
            "text/html": [
              "<div>\n",
              "<style scoped>\n",
              "    .dataframe tbody tr th:only-of-type {\n",
              "        vertical-align: middle;\n",
              "    }\n",
              "\n",
              "    .dataframe tbody tr th {\n",
              "        vertical-align: top;\n",
              "    }\n",
              "\n",
              "    .dataframe thead th {\n",
              "        text-align: right;\n",
              "    }\n",
              "</style>\n",
              "<table border=\"1\" class=\"dataframe\">\n",
              "  <thead>\n",
              "    <tr style=\"text-align: right;\">\n",
              "      <th></th>\n",
              "      <th>mean1</th>\n",
              "      <th>mean2</th>\n",
              "      <th>mean3</th>\n",
              "    </tr>\n",
              "  </thead>\n",
              "  <tbody>\n",
              "    <tr>\n",
              "      <th></th>\n",
              "      <td>3.3</td>\n",
              "      <td>3.225</td>\n",
              "      <td>4.933333</td>\n",
              "    </tr>\n",
              "  </tbody>\n",
              "</table>\n",
              "</div>"
            ],
            "text/plain": [
              "  mean1  mean2     mean3\n",
              "    3.3  3.225  4.933333"
            ]
          },
          "metadata": {
            "tags": []
          },
          "execution_count": 12
        }
      ]
    },
    {
      "cell_type": "markdown",
      "metadata": {
        "id": "sktwXXRGeNj4"
      },
      "source": [
        "**=> kết luận:** chế độ ăn ảnh hưởng đến việc giảm cân\n",
        "- chế độ ăn hiệu quả nhất là nhóm diet 3"
      ]
    },
    {
      "cell_type": "markdown",
      "metadata": {
        "id": "MufjWK2TqpjL"
      },
      "source": [
        "###**Giới tính**"
      ]
    },
    {
      "cell_type": "markdown",
      "metadata": {
        "id": "bvpuHfUjq5Rg"
      },
      "source": [
        "**phát biểu giả thiết:**\n",
        "- h0: Chỉ số giảm cân của nam và nữ bằng nhau\n",
        "- h1: Chỉ số giảm cân của nam và nữ khác nhau"
      ]
    },
    {
      "cell_type": "code",
      "metadata": {
        "colab": {
          "base_uri": "https://localhost:8080/"
        },
        "id": "MRcPWJvEqp8Y",
        "outputId": "df5b6330-0978-4a3e-81b9-21efaf7a53d3"
      },
      "source": [
        "stat, p = stats.ttest_ind(df[(df[\"gender\"] == '0')][\"weightlost\"], df[(df[\"gender\"] == '1')][\"weightlost\"])\n",
        "print('Stat =', stat, 'P_value =', p)\n",
        "if p > 0.05:\n",
        "    print(\"không có bằng chứng để bác bỏ giả thiết H0: Chỉ số giảm cân của nam và nữ bằng nhau\")\n",
        "else:\n",
        "    print(\"có bằng chứng để bác bỏ giả thiết H0, điều này ngụ ý chấp nhận giả thiết H1: Chỉ số giảm cân của nam và nữ khác nhau\")"
      ],
      "execution_count": 13,
      "outputs": [
        {
          "output_type": "stream",
          "text": [
            "Stat = -0.20925085653363862 P_value = 0.8348273886348047\n",
            "không có bằng chứng để bác bỏ giả thiết H0: Chỉ số giảm cân của nam và nữ bằng nhau\n"
          ],
          "name": "stdout"
        }
      ]
    },
    {
      "cell_type": "markdown",
      "metadata": {
        "id": "k-Hxp95UiE8b"
      },
      "source": [
        "###**chiều cao**"
      ]
    },
    {
      "cell_type": "code",
      "metadata": {
        "colab": {
          "base_uri": "https://localhost:8080/",
          "height": 394
        },
        "id": "xtKuREaxiD-A",
        "outputId": "9916aa6e-640d-4300-adad-5340a018d2d4"
      },
      "source": [
        "# phân nhóm theo chiều cao\n",
        "height_1 = df[(df['Height'] < 160)][\"weightlost\"]                        #chiều cao dưới 160 cm\n",
        "height_2 = df[(df['Height'] < 170)][(df['Height'] >= 160)][\"weightlost\"] #chiều cao từ 160 đến dưới 170 cm\n",
        "height_3 = df[(df['Height'] < 180)][(df['Height'] >= 170)][\"weightlost\"] #chiều cao từ 170 đến dưới 180 cm \n",
        "height_4 = df[(df['Height'] >= 180)][\"weightlost\"]                       #chiều cao trên 180 cm\n",
        "#lấy mẫu để kiểm định anova\n",
        "height_sp1 = height_1.sample(9)\n",
        "height_sp2 = height_2.sample(9)\n",
        "height_sp3 = height_3.sample(9)\n",
        "height_sp4 = height_4.sample(9)\n",
        "#\n",
        "weight_lost = list(zip(height_sp1, height_sp2, height_sp3, height_sp4))\n",
        "df_height =  pd.DataFrame(weight_lost, columns = (\"height 1\", \"height 2\", \"height 3\", \"height 4\"))\n",
        "df_height"
      ],
      "execution_count": 14,
      "outputs": [
        {
          "output_type": "stream",
          "text": [
            "/usr/local/lib/python3.7/dist-packages/ipykernel_launcher.py:3: UserWarning: Boolean Series key will be reindexed to match DataFrame index.\n",
            "  This is separate from the ipykernel package so we can avoid doing imports until\n",
            "/usr/local/lib/python3.7/dist-packages/ipykernel_launcher.py:4: UserWarning: Boolean Series key will be reindexed to match DataFrame index.\n",
            "  after removing the cwd from sys.path.\n"
          ],
          "name": "stderr"
        },
        {
          "output_type": "execute_result",
          "data": {
            "text/html": [
              "<div>\n",
              "<style scoped>\n",
              "    .dataframe tbody tr th:only-of-type {\n",
              "        vertical-align: middle;\n",
              "    }\n",
              "\n",
              "    .dataframe tbody tr th {\n",
              "        vertical-align: top;\n",
              "    }\n",
              "\n",
              "    .dataframe thead th {\n",
              "        text-align: right;\n",
              "    }\n",
              "</style>\n",
              "<table border=\"1\" class=\"dataframe\">\n",
              "  <thead>\n",
              "    <tr style=\"text-align: right;\">\n",
              "      <th></th>\n",
              "      <th>height 1</th>\n",
              "      <th>height 2</th>\n",
              "      <th>height 3</th>\n",
              "      <th>height 4</th>\n",
              "    </tr>\n",
              "  </thead>\n",
              "  <tbody>\n",
              "    <tr>\n",
              "      <th>0</th>\n",
              "      <td>7.2</td>\n",
              "      <td>9.0</td>\n",
              "      <td>0.7</td>\n",
              "      <td>1.7</td>\n",
              "    </tr>\n",
              "    <tr>\n",
              "      <th>1</th>\n",
              "      <td>5.0</td>\n",
              "      <td>3.0</td>\n",
              "      <td>3.6</td>\n",
              "      <td>2.4</td>\n",
              "    </tr>\n",
              "    <tr>\n",
              "      <th>2</th>\n",
              "      <td>3.4</td>\n",
              "      <td>1.9</td>\n",
              "      <td>4.5</td>\n",
              "      <td>4.2</td>\n",
              "    </tr>\n",
              "    <tr>\n",
              "      <th>3</th>\n",
              "      <td>3.8</td>\n",
              "      <td>5.4</td>\n",
              "      <td>2.9</td>\n",
              "      <td>2.8</td>\n",
              "    </tr>\n",
              "    <tr>\n",
              "      <th>4</th>\n",
              "      <td>2.5</td>\n",
              "      <td>6.8</td>\n",
              "      <td>4.5</td>\n",
              "      <td>-1.4</td>\n",
              "    </tr>\n",
              "    <tr>\n",
              "      <th>5</th>\n",
              "      <td>1.1</td>\n",
              "      <td>3.6</td>\n",
              "      <td>4.3</td>\n",
              "      <td>3.5</td>\n",
              "    </tr>\n",
              "    <tr>\n",
              "      <th>6</th>\n",
              "      <td>3.0</td>\n",
              "      <td>5.4</td>\n",
              "      <td>2.8</td>\n",
              "      <td>3.5</td>\n",
              "    </tr>\n",
              "    <tr>\n",
              "      <th>7</th>\n",
              "      <td>7.0</td>\n",
              "      <td>5.6</td>\n",
              "      <td>-2.1</td>\n",
              "      <td>5.8</td>\n",
              "    </tr>\n",
              "    <tr>\n",
              "      <th>8</th>\n",
              "      <td>6.3</td>\n",
              "      <td>-0.5</td>\n",
              "      <td>8.6</td>\n",
              "      <td>6.0</td>\n",
              "    </tr>\n",
              "  </tbody>\n",
              "</table>\n",
              "</div>"
            ],
            "text/plain": [
              "   height 1  height 2  height 3  height 4\n",
              "0       7.2       9.0       0.7       1.7\n",
              "1       5.0       3.0       3.6       2.4\n",
              "2       3.4       1.9       4.5       4.2\n",
              "3       3.8       5.4       2.9       2.8\n",
              "4       2.5       6.8       4.5      -1.4\n",
              "5       1.1       3.6       4.3       3.5\n",
              "6       3.0       5.4       2.8       3.5\n",
              "7       7.0       5.6      -2.1       5.8\n",
              "8       6.3      -0.5       8.6       6.0"
            ]
          },
          "metadata": {
            "tags": []
          },
          "execution_count": 14
        }
      ]
    },
    {
      "cell_type": "code",
      "metadata": {
        "colab": {
          "base_uri": "https://localhost:8080/"
        },
        "id": "SwXql_BrmrEY",
        "outputId": "63377935-a7d5-4594-da2c-6a00a17c7da6"
      },
      "source": [
        "shapiro(df_height)\n",
        "levene(df_height)\n",
        "anova(df_height)"
      ],
      "execution_count": 15,
      "outputs": [
        {
          "output_type": "stream",
          "text": [
            "không có bằng chứng để bác bỏ giả thiết H0: mẫu height 1 tuân theo phân phối chuẩn\n",
            "không có bằng chứng để bác bỏ giả thiết H0: mẫu height 2 tuân theo phân phối chuẩn\n",
            "không có bằng chứng để bác bỏ giả thiết H0: mẫu height 3 tuân theo phân phối chuẩn\n",
            "không có bằng chứng để bác bỏ giả thiết H0: mẫu height 4 tuân theo phân phối chuẩn\n",
            "\n",
            "không có bằng chứng để bác bỏ giả thiết H0: Phương sai đồng nhất\n",
            "\n",
            "không có bằng chứng để bác bỏ giả thiết H0: các giá trị trung bình bằng nhau\n"
          ],
          "name": "stdout"
        }
      ]
    },
    {
      "cell_type": "markdown",
      "metadata": {
        "id": "byfLXho2m2nN"
      },
      "source": [
        "**=> kết luận:** chiều cao không ảnh hưởng đến việc giảm cân"
      ]
    },
    {
      "cell_type": "markdown",
      "metadata": {
        "id": "c7GHykipwViW"
      },
      "source": [
        "<br>\n",
        "<br>\n",
        "<br>\n",
        "<br>\n",
        "<hr>"
      ]
    }
  ]
}
